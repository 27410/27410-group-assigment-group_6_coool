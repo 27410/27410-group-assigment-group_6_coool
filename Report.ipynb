{
 "cells": [
  {
   "cell_type": "markdown",
   "metadata": {},
   "source": [
    "# [Title]"
   ]
  },
  {
   "cell_type": "markdown",
   "metadata": {
    "tags": []
   },
   "source": [
    "## 1. Introduction"
   ]
  },
  {
   "cell_type": "markdown",
   "metadata": {},
   "source": [
    "### 1.1 Literature review of the compound (<500 words)\n",
    "Malaria is a parasitic, life-threatening disease which is both preventable and curable. In 2020, there were an estimated 241 million cases worldwide, causing approximately 627 thousand deaths according to the WHO. 95% of those malaria cases took place in Africa, often in poor, rural areas with limited access to proper medical attention (WHO, 2022). To combat malarial infections, high quantities of low-cost antimalarial drugs are crucial to making treatment accessible. Artemisin is a potent antimalarial drug which could possibly provide an answer to the large death toll of malaria alltogether. However, production of artemisin is currently too expensive to be widely accessible in rural africa, mostly due to low yields in the production methods. Artemisinin global market size was estimated at USD 61 Million as 2021 (360ResearchReports, 2022). The demand for the product has risen dramatically after the World Health Organization recognized it as a first-line treatment for malaria (WHO, 2018).\n",
    "\n",
    "Artemisin is currently being industrially produced through one of two methods. Firstly, through *Artemisia annua*, a plant which is natively able to synthesisze artimesin from farnesyl pyrophosphate (FPP). However, production using *A. annua* is too slow and costly to meet market demands (Li et al. 2016). Therefore a second alternative was developed by Ro et al. (2006). They used *A. annua*'s artemisin pathway as a framework for engineering an artemisin-producing cell factory. However, the final step of the artemisin pathway, conversion of artemisinic acid to artemisin, is currently unknown. Therefore, they decided to engineer the production of artemisinic acid in *Saccharomyces cerevisiae*, and chemically synthesize the final step of the production, as shown below.\n",
    "\n",
    "![title](documents\\Artemisin_synthesis.png)\n",
    "\n",
    "The figure above is adapted from Li et al. (2016). The engineered biosynthetic pathway above starts at FPP, which is a precursor for steroids in both plants and fungi, and it stems from the mevalonate pathway. From there amorphadiene synthase (ADS) cleaves off the pryophoshpate group to close the ring structures in the molecule, resulting in 4,11-amorphadiene. Cytochrome P450 enzyme (CYP71AV1) catalyzes the monooxidation of 4,11-amorphadiene into artemisinic alcohol, which is further oxidised artemisinic aldehyde and finally artemisinic acid via NAD-dependent artemisinic alcohol dehydrogenase (ADH1) and artemisinic aldehyde dehydrogenase (ALDH1) respectively. The conversion from artemisinic acid into artemisinin is generally considered feasible because it's performed at a low cost, with high yields in industry already (Paniego and Guiletti, 1996). Thus, an efficient cell factory, generating high yields of artemisinic acid could be the answer to finding a low-cost antimalarial drug. "
   ]
  },
  {
   "cell_type": "markdown",
   "metadata": {
    "tags": []
   },
   "source": [
    "### 1.2 Literature review of the cell factory (<500 words)\n",
    "\n",
    "Aspergillus niger is a filamentous fungus, which can be found in almost every habitat on earth, including soil, ocean water and arctic ice. After germination of a spore, the fungus grows as hyphae, branching filaments that form the mycelial network on solid substrate, or pellet-like mycelial aggregates in submerged liquid culture [5]. Its high growth rate, relatively short life cycle and ability to grow on a variety of substrates account for A. niger’s robustness and ubiquity in nature. [1][2]\n",
    "\n",
    "Adapted to its lifestyle of a decomposer of organic matter, it has an enormous productivity and secretion capability of proteins, acids and small molecules. This has been exploited by industry to produce a vast number of organic acids, enzymes, biopharmaceuticals and secondary metabolites, making it an important workhorse in biotechnology. [3]\n",
    "In competition and symbiosis with other fungi and microorganisms, it evolved an extensive SM production machinery of, amongst others, sesquiterpenoids, to compete and communicate with surrounding organisms. Genome-mining revealed that 99 core SM synthase enzymes are present in A. niger, which highlights its potential as SM cell factory [4].\n",
    "\n",
    "Being extensively used in biotechnological manufacturing and research, A. niger is a well-studied production host with a variety of synthetic biology tools available for genetic engineering. Besides Crispr-Cas9 for genome editing [6] and RNAi systems for gene-knock down [7], multiple highly optimized inducible promoters have been developed for controlled gene expression [8]. Numerous scientific papers and several genome-scale models provide a solid data basis for in-silico cell-factory engineering [9][10].\n",
    "\n",
    "A disadvantage of A. niger is its natural phenotype of branching filaments, which poses challenges for the fermentation process, since the mycelial aggregates increase viscosity and limit oxygen transfer. Also, it is not as well understood and has a smaller molecular toolbox than S. cerevisiae [14].\n",
    "\n",
    "There are numerous potential alternative cell factories for the production of artemisinic acid. Prerequisite is the presence of a precursor in the metabolism. It can be farnesyl pyrophosphate (FPP) like in this report, but technically could also be upstream of FPP, when the enzymes for the production of FPP are included in the heterologous pathway. However, the host should be chosen to provide a precursor as close to the final product as possible, to make use of the natural synthesis capabilities of the wild-type metabolism. FPP is part of the mevalonate pathway, which is present in all eucaryotes and archaea, and in some bacteria [11]. It is used to produce sesquiterpenoids, an extremely diverse class of secondary metabolites, of which many have bioactive properties.\n",
    "\n",
    "Today, the majority of pharmaceutical sesquiterpenoids are extracted from plants, which highlights their superior production capabilities [12]. The largest share of artemisin production globally is contributed by its natural production host, the plant Artemisia annua. Alternatively, industrial production hosts like tobacco or algae could harness the sesquiterpenoid synthesis potential of plants [13]. However, since industrial-scale production of plants is challenging, the biosynthetic pathway for artemisinic acid was introduced into the yeast Saccharomyces cerevisiae for fermentation-based manufacturing. S. cerevisiae is the best known eucaryotic production host and extensively used for biosynthetic pathway engineering, but its SM production machinery and secretion capability are inferior to A. niger [14].\n"
   ]
  },
  {
   "cell_type": "markdown",
   "metadata": {},
   "source": [
    "## 2. Problem definition (<300 words)\n",
    "In this project, we use a simulated Genomic Scale Model (GSM) to test *Aspergillus niger* as a potential production strain of artemisinic acid as an alternative to the yeast strain *S. cerivisiae*, which has been shown to provide too low yields for a sufficient supply at reasonable cost (Li et al. 2016)."
   ]
  },
  {
   "cell_type": "markdown",
   "metadata": {},
   "source": [
    "## 3. Selection and assessment of existing GSM\n",
    "The Genome-scale metabolic models (GSM models) are premrily based on three commonly used strains: strain ATCC1015 represents a wild-type that naturally produces citric acid, and the strain CBS513 is an enzyme-producing strain in industrial use. Strain DS03043 is another useful mutant that has higher cell growth, glucose uptake, and glucoamylase production rates but lower oxalic acid and citric acid secretion rates.\n",
    "\n",
    "In the recent five years, four papers was published around the GSM models of A.niger based on above-mentioned strains. These models are named iDU1756, iJB1325, iHL1210 and eciJB1325, as shown below. The iJB1325 model has two variations based on ATCC1015 strain GSM and CBS513 strain GSM. \n",
    "\n",
    "| Model | Published Year | Strain Validation | Original Paper |\n",
    "| --- | --- | --- | --- |\n",
    "| eciJB1325 | 2021 | N/A | Zhou, J. Microb Cell Fact 20, 125 (2021) |\n",
    "| iDU1756 | 2020 | ATCC1015 | Upton, D. Biotechnol Biofuels 13, 27 (2020) |\n",
    "| iJB1325 | 2018 | ATCC1015 and CBS513 | Brandl, J. 5, 16 (2018)  |\n",
    "| iHL1210 | 2017 | CBS513 and DS03043 | Lu, H. Biotechnol and Bioengering 114, 3 (2017) |\n",
    "\n",
    "Compare to earlier iHL1210 model, the fully upgraded iJB1325 model has included 556 more reactions, 115 more genes and more than 200 test cases, which makes it more accurate than previous GSM models. On the other hand, the model iDU1756 has many differences compare to iJB1325, but the model file has errors which cannot be validated by SBML file standard. The most recent published model eciJB1325 is an enzyme-constrained GSM model based on original iJB1325 model with kinetic parameters and abundance information of enzymes. Based on literature, the extra enzymetic information supposed to improve phenotypic prediction and enhances simulation reliability. Therefore, iHL1210 and iDU1756 are discarded in the MEMOTE model analysis, and two strain GSM variations based on ATCC1015 and CBS513 are included. The code goes as follow for ATCC1015, CBS513 and eciJB1325 GSM models:\n",
    "\n",
    ">`% memote report diff Aspergillus_ATCC1015_iJB1325.xml Aspergillus_CBS513_iJB1325.xml  Aspergillus_Enzyme_Constriant_iJB1325.xml\n",
    "`\n",
    "\n",
    "| Model | Total Score | # of Metabolites | # of Reactions | # of Genes | Mass Balance | Metabolite Annotation |\n",
    "| --- | --- | --- | --- | --- | --- | --- |\n",
    "| ATCC1015 | 24% | 1,818 | 2,320 | 1,325 | 95.7% | 84.3% | \n",
    "| CBS513 | 24% | 1,818 | 2,320 | 1,373 | 95.7% | 84.3% | \n",
    "| eciJB1325 | 23% | 3,588 | 6,274 | 1,357 | 20.3% | 0% | \n",
    "\n",
    "After performing MEMOTE on all remaining models, the validation result is shown in the following [link](documents/MEMOTE_Model_analysis.html) and key results in the table above. All three models have very similar scores, but ATCC1015 and CBS513 has a slightly higher score due to their fully annotated metabolites. On the other hand, eciJB1325 integrates 1255 enzymes’ kinetics and abundance into the iJB1325 GSM model of A. niger, so the number of reactions, metabolites and reactions increased significantly. However, we have not found relevant enzymatic information for our pathway and this project will include an OptKnock analysis, thus it is important to use the original iJB1325 model without enzyme kinetics. Finally, the ATCC1015 is a well-documented strain with more experimental data, the ATCC1015 GSM model is more suitable in this project. \n",
    "\n",
    "\n",
    "Links to be put in references:\n",
    "iDU1756\n",
    "https://www.ncbi.nlm.nih.gov/pmc/articles/PMC7038614/\n",
    "\n",
    "iHL1210\n",
    "https://onlinelibrary.wiley.com/doi/full/10.1002/bit.26195\n",
    "\n",
    "iJB1325\n",
    "https://fungalbiolbiotech.biomedcentral.com/articles/10.1186/s40694-018-0060-7#Sec17\n",
    "\n",
    "eciJB1325\n",
    "https://link.springer.com/article/10.1186/s12934-021-01614-2#Sec12\n",
    "\n",
    "usage of different strain \n",
    "https://www.ncbi.nlm.nih.gov/pmc/articles/PMC3106321/\n",
    "https://microbialcellfactories.biomedcentral.com/articles/10.1186/s12934-015-0329-y\n",
    "\n",
    "memote\n",
    "https://www.nature.com/articles/s41587-020-0446-y\n"
   ]
  },
  {
   "cell_type": "code",
   "execution_count": null,
   "metadata": {},
   "outputs": [],
   "source": [
    "FileLink('documents/MEMOTE_Model_analysis.html')"
   ]
  },
  {
   "cell_type": "markdown",
   "metadata": {},
   "source": [
    "## 4. Computer-Aided Cell Factory Engineering (<1500 words if Category II project; <500 words for Category I project)\n",
    "\n",
    "**Expectations (everyone):**\n",
    "- Add heterologous pathway to GSM (if needed)\n",
    "- Calculate theoretical maximum yields for chosen product for suitable carbon sources\n",
    "- Plot phenotypic phase planes for relevant process conditions (anaerobic vs aerobic for example, what does make more sense?)\n",
    "\n",
    "**Additional expectations for Category II projects:** (pick a few, not everything)\n",
    "- Computationally enumerate all potential production pathways to your chosen product (even if it is a native product) and score them by different metrics (yield, number of steps added,)\n",
    "- Compute gene knockout strategies using algorithms like OptKnock, OptGene and OptCouple\n",
    "- Compute over-expression and down-regulation targets\n",
    "- Compute co-factor swap targets\n",
    "- Assess your predicted strain designs using simulations and pathway visualizations\n",
    "- Assess manually derived strain designs using model simulations\n",
    "- Simulate batch cultivations using dynamic FBA\n",
    "- Based on your computations, provide a top 10 list of most promising cell factory designs. The criteria for \"most promising\" are the number of modifications, yield, growth rate and others you might define\n"
   ]
  },
  {
   "cell_type": "markdown",
   "metadata": {},
   "source": [
    "### Over-expression and Down-regulation targets\n",
    "To improve strain capability with shorter development time, in-silico gene knockout is a very effective method that can be used to predict target production through flux analysis. However, gene knockout doesn't capture many other methods that has been used in the experiments like gene overexpression. Recent advances have demonstrated meaningful result through gene regulation optimizations such as OptForce, differential FVA and FSEOF. In this case, FSEOF is performed through carmeo package and modified A.niger ATCC1015 model.\n",
    "\n",
    ">`fseof = FSEOF(model)\n",
    "result = fseof.run(target = model.reactions.ARTA_ex)\n",
    "`\n",
    "\n",
    "The above algorithm produces all reactions that can have high impact on the target product. After filtering out small changes in gene regulation, 19 reactions were left as shown below.\n",
    "\n",
    "![gene_regulation](documents\\gene_regulation.png)\n",
    "\n",
    "\n",
    "\n",
    "Out of 19 selected reactions, 9 reactions belong to the mevalonate pathway in the terpenoid backbone synthesis, which is immediately related to the product reactions. The phosphate exchange reaction is an unique choice which may boost reactions in the mevalonate pathway, especially from r863 to r868. Undoubtfully, the other 5 selected reactions from Arteminsinin biosynthesis will directly affect the product. The last four reactions belongs to Arginine related pathway and has very minimal flux influence compare to the other ones.\n",
    "\n",
    "| ID | Reaction| Stoichiometry | Pathway|\n",
    "|---|---|---|---|\n",
    "| r861| 3-hydroxy-3-methylglutaryl coenzyme A synthase| AACCOA + ACCOA + H2O <=> COA + H3MCOA | Mevalonate Pathway |\n",
    "| r862| 3-hydroxy-3-methylglutaryl-coenzyme A (HMG-CoA) reductase isozyme | H3MCOA + 2.0 NADPH <=> COA + MVL + 2.0 NADP | Mevalonate Pathway |\n",
    "| r863| Mevalonate kinase | ATP + MVL --> ADP + PMVL| Mevalonate Pathway |\n",
    "| r864| Phosphomevalonate kinase| ATP + PMVL --> ADP + PPMVL| Mevalonate Pathway |\n",
    "| r865| Diphosphomevalonate decarboxylase | ATP + PPMVL --> ADP + CO2 + IPPP + PI | Mevalonate Pathway |\n",
    "| r671| Acetyl-CoA C-acetyltransferase, acetoacetyl-CoA thiolase| 2.0 ACCOA --> AACCOA + COA| Mevalonate Pathway |\n",
    "| r1095 | | PIe <=> PI| Phosphate Exchange |\n",
    "| r866| Isopentenyl diphosphate:dimethylallyl diphosphate isomerase (IPP isomerase) | IPPP <=> DMPP | Mevalonate Pathway |\n",
    "| r867| Prenyltransferase | DMPP + IPPP --> GPP + PPI | Mevalonate Pathway |\n",
    "| r868| Farnesyl diphosphate synthetase (FPP synthetase)| GPP + IPPP --> FPP + PPI| Mevalonate Pathway |\n",
    "| ARTA_ex | | ARTA_c --> ARTA_e | Artemisinin Biosynthesis |\n",
    "| ALDH1_reaction| | artem_aldehyde --> ARTA_c | Artemisinin Biosynthesis |\n",
    "| ADH1_reaction | | artem_alcohol --> artem_aldehyde| Artemisinin Biosynthesis |\n",
    "| CYP1AV1CY/PCPR1/CYB5_reaction | | amorpha --> artem_alcohol | Artemisinin Biosynthesis |\n",
    "| ADS_reaction| | FPP --> amorpha | Artemisinin Biosynthesis |\n",
    "| r269| Argininosuccinate lyase | ARGSUCC <=> ARG + FUM | Benzoate Degradation |\n",
    "| r268| Argininosuccinate synthase| ASP + ATP + CITR --> AMP + ARGSUCC + PPI| Benzoate Degradation |\n",
    "| r1183 | | CITR <=> CITRm| Arginine Biosynthesis|\n",
    "| r19 | Pyruvate carboxylase| ATP + CO2 + H2O + PYR --> ADP + OA + PI | Biotin Synthesis Pathway |\n",
    "\n",
    "![title](documents/mevalonate_path.png)\n",
    "\n",
    "Reference:\n",
    "FSEOF Method\n",
    "https://bmcsystbiol.biomedcentral.com/articles/10.1186/1752-0509-6-106\n",
    "Cameo Package\n",
    "https://cameo.bio/06-predict-gene-modulation-targets.html"
   ]
  },
  {
   "cell_type": "code",
   "execution_count": null,
   "metadata": {},
   "outputs": [],
   "source": [
    "FileLink('code/Gene_Regulation_Optimization')"
   ]
  },
  {
   "cell_type": "markdown",
   "metadata": {},
   "source": [
    "## 5. Discussion (<500 words)\n",
    "- In this section, discuss your results. Is it likely that you will be successful? What are the underlying assumptions? How could risks be minimized? What are the next steps towards implementation?"
   ]
  },
  {
   "cell_type": "markdown",
   "metadata": {},
   "source": [
    "## 6. Conclusion (<200 words)\n",
    "- A summary of your strategy, expected outcome, and the impact of the project, should you achieve what you are trying to do."
   ]
  },
  {
   "cell_type": "markdown",
   "metadata": {},
   "source": [
    "## References"
   ]
  },
  {
   "cell_type": "markdown",
   "metadata": {},
   "source": [
    "[1] World Health Organization (WHO) (2022), Malaria, https://www.who.int/news-room/fact-sheets/detail/malaria\n",
    "\n",
    "[2] 360ResearchReports, 2022, Global Artemisinin Industry Research Report, Competitive Landscape, Market Size, Regional Status and Prospect. SKU ID : Maia-21739066\n",
    "\n",
    "[3] World Health Organization (WHO) (2018), Artemisinin resistance and artemisinin-based combination therapy efficacy, Status Report, https://www.who.int/docs/default-source/documents/publications/gmp/who-cds-gmp-2018-26-eng.pdf\n",
    "\n",
    "[4] Li, C., Li, J., Wang, G. and Li, X. (2016), Heterologous biosynthesis of artemisinic acid in Saccharomyces cerevisiae. J Appl Microbiol, 120: 1466-1478. https://doi.org/10.1111/jam.13044\n",
    "\n",
    "[5] Ro, DK., Paradise, E., Ouellet, M. et al. (2006), Production of the antimalarial drug precursor artemisinic acid in engineered yeast. Nature 440, 940–943. https://doi.org/10.1038/nature04640\n",
    "\n",
    "[6] Norma B. Paniego, Ana Maria Giulietti (1996), Artemisinin production by Artemisia annua L.-transformed organ cultures, Enzyme and Microbial Technology, Volume 18, Issue 7, 526-530. https://doi.org/10.1016/0141-0229(95)00216-2.\n"
   ]
  },
  {
   "cell_type": "code",
   "execution_count": null,
   "metadata": {},
   "outputs": [],
   "source": []
  }
 ],
 "metadata": {
  "kernelspec": {
   "display_name": "Python 3 (ipykernel)",
   "language": "python",
   "name": "python3"
  },
  "language_info": {
   "codemirror_mode": {
    "name": "ipython",
    "version": 3
   },
   "file_extension": ".py",
   "mimetype": "text/x-python",
   "name": "python",
   "nbconvert_exporter": "python",
   "pygments_lexer": "ipython3",
   "version": "3.9.7"
  }
 },
 "nbformat": 4,
 "nbformat_minor": 4
}
