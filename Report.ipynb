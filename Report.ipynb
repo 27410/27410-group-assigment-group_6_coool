{
 "cells": [
  {
   "cell_type": "markdown",
   "metadata": {},
   "source": [
    "# [Title]"
   ]
  },
  {
   "cell_type": "markdown",
   "metadata": {},
   "source": [
    "## 1. Introduction"
   ]
  },
  {
   "cell_type": "markdown",
   "metadata": {},
   "source": [
    "### 1.1 Literature review of the compound (<500 words)"
   ]
  },
  {
   "cell_type": "markdown",
   "metadata": {},
   "source": [
    "### 1.2 Literature review of the cell factory (<500 words)"
   ]
  },
  {
   "cell_type": "markdown",
   "metadata": {},
   "source": [
    "## 2. Problem definition (<300 words)"
   ]
  },
  {
   "cell_type": "markdown",
   "metadata": {},
   "source": [
    "## 3. *If Project category I:* Reconstruction of a new GSM for your cell factory host of interest (<1500 words)"
   ]
  },
  {
   "cell_type": "markdown",
   "metadata": {},
   "source": [
    "or"
   ]
  },
  {
   "cell_type": "markdown",
   "metadata": {},
   "source": [
    "## 3. Selection and assessment of existing GSM\n",
    "The Genome-scale metabolic models (GSM models) are premrily based on three commonly used strains: strain ATCC1015 represents a wild-type that naturally produces citric acid, and the strain CBS513 is an enzyme-producing strain in industrial use. Strain DS03043 is another useful mutant that has higher cell growth, glucose uptake, and glucoamylase production rates but lower oxalic acid and citric acid secretion rates.\n",
    "\n",
    "In the recent five years, four papers was published around the GSM models of A.niger based on above-mentioned strains. These models are named iDU1756, iJB1325, iHL1210 and eciJB1325, as shown below. The iJB1325 model has two variations based on ATCC1015 strain GSM and CBS513 strain GSM. \n",
    "\n",
    "| Model | Published Year | Strain Validation | Original Paper |\n",
    "| --- | --- | --- | --- |\n",
    "| eciJB1325 | 2021 | N/A | Zhou, J. Microb Cell Fact 20, 125 (2021) |\n",
    "| iDU1756 | 2020 | ATCC1015 | Upton, D. Biotechnol Biofuels 13, 27 (2020) |\n",
    "| iJB1325 | 2018 | ATCC1015 and CBS513 | Brandl, J. 5, 16 (2018)  |\n",
    "| iHL1210 | 2017 | CBS513 and DS03043 | Lu, H. Biotechnol and Bioengering 114, 3 (2017) |\n",
    "\n",
    "Compare to earlier iHL1210 model, the fully upgraded iJB1325 model has included 556 more reactions, 115 more genes and more than 200 test cases, which makes it more accurate than previous GSM models. On the other hand, the model iDU1756 has many differences compare to iJB1325, but the model file has errors which cannot be validated by SBML file standard. The most recent published model eciJB1325 is an enzyme-constrained GSM model based on original iJB1325 model with kinetic parameters and abundance information of enzymes. Based on literature, the extra enzymetic information supposed to improve phenotypic prediction and enhances simulation reliability. Therefore, iHL1210 and iDU1756 are discarded in the MEMOTE model analysis, and two strain GSM variations based on ATCC1015 and CBS513 are included. The code goes as follow for ATCC1015, CBS513 and eciJB1325 GSM models:\n",
    "\n",
    ">`% memote report diff Aspergillus_ATCC1015_iJB1325.xml Aspergillus_CBS513_iJB1325.xml  Aspergillus_Enzyme_Constriant_iJB1325.xml\n",
    "`\n",
    "\n",
    "| Model | Total Score | # of Metabolites | # of Reactions | # of Genes | Mass Balance | Metabolite Annotation |\n",
    "| --- | --- | --- | --- | --- | --- | --- |\n",
    "| ATCC1015 | 24% | 1,818 | 2,320 | 1,325 | 95.7% | 84.3% | \n",
    "| CBS513 | 24% | 1,818 | 2,320 | 1,373 | 95.7% | 84.3% | \n",
    "| eciJB1325 | 23% | 3,588 | 6,274 | 1,357 | 20.3% | 0% | \n",
    "\n",
    "After performing MEMOTE on all remaining models, the validation result is shown in the following [link](documents/MEMOTE_Model_analysis.html) and key results in the table above. All three models have very similar scores, but ATCC1015 and CBS513 has a slightly higher score due to their fully annotated metabolites. On the other hand, eciJB1325 integrates 1255 enzymes’ kinetics and abundance into the iJB1325 GSM model of A. niger, so the number of reactions, metabolites and reactions increased significantly. However, we have not found relevant enzymatic information for our pathway and this project will include an OptKnock analysis, thus it is important to use the original iJB1325 model without enzyme kinetics. Finally, the ATCC1015 is a well-documented strain with more experimental data, the ATCC1015 GSM model is more suitable in this project. \n",
    "\n",
    "\n",
    "Links to be put in references:\n",
    "iDU1756\n",
    "https://www.ncbi.nlm.nih.gov/pmc/articles/PMC7038614/\n",
    "\n",
    "iHL1210\n",
    "https://onlinelibrary.wiley.com/doi/full/10.1002/bit.26195\n",
    "\n",
    "iJB1325\n",
    "https://fungalbiolbiotech.biomedcentral.com/articles/10.1186/s40694-018-0060-7#Sec17\n",
    "\n",
    "eciJB1325\n",
    "https://link.springer.com/article/10.1186/s12934-021-01614-2#Sec12\n",
    "\n",
    "usage of different strain \n",
    "https://www.ncbi.nlm.nih.gov/pmc/articles/PMC3106321/\n",
    "https://microbialcellfactories.biomedcentral.com/articles/10.1186/s12934-015-0329-y\n",
    "\n",
    "memote\n",
    "https://www.nature.com/articles/s41587-020-0446-y\n"
   ]
  },
  {
   "cell_type": "code",
   "execution_count": null,
   "metadata": {},
   "outputs": [],
   "source": []
  },
  {
   "cell_type": "code",
   "execution_count": null,
   "metadata": {},
   "outputs": [],
   "source": [
    "FileLink('documents/MEMOTE_Model_analysis.html')"
   ]
  },
  {
   "cell_type": "markdown",
   "metadata": {},
   "source": [
    "## 4. Computer-Aided Cell Factory Engineering (<1500 words if Category II project; <500 words for Category I project)"
   ]
  },
  {
   "cell_type": "markdown",
   "metadata": {},
   "source": [
    "## 5. Discussion (<500 words)"
   ]
  },
  {
   "cell_type": "markdown",
   "metadata": {},
   "source": [
    "## 6. Conclusion (<200 words)"
   ]
  },
  {
   "cell_type": "markdown",
   "metadata": {},
   "source": [
    "## References"
   ]
  },
  {
   "cell_type": "code",
   "execution_count": null,
   "metadata": {},
   "outputs": [],
   "source": []
  }
 ],
 "metadata": {
  "kernelspec": {
   "display_name": "Python 3 (ipykernel)",
   "language": "python",
   "name": "python3"
  },
  "language_info": {
   "codemirror_mode": {
    "name": "ipython",
    "version": 3
   },
   "file_extension": ".py",
   "mimetype": "text/x-python",
   "name": "python",
   "nbconvert_exporter": "python",
   "pygments_lexer": "ipython3",
   "version": "3.9.12"
  }
 },
 "nbformat": 4,
 "nbformat_minor": 4
}
