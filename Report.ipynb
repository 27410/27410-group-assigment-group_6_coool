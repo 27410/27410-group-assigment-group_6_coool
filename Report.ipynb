{
 "cells": [
  {
   "cell_type": "markdown",
   "metadata": {},
   "source": [
    "# [Title]"
   ]
  },
  {
   "cell_type": "markdown",
   "metadata": {
    "tags": []
   },
   "source": [
    "## 1. Introduction"
   ]
  },
  {
   "cell_type": "markdown",
   "metadata": {},
   "source": [
    "### 1.1 Literature review of the compound (<500 words)\n",
    "Malaria is a parasitic, life-threatening disease which is both preventable and curable. In 2020, there were an estimated 241 million cases worldwide, causing approximately 627 thousand deaths according to the WHO. 95% of those malaria cases took place in Africa, often in poor, rural areas with limited access to proper medical attention (WHO, 2022). To combat malarial infections, high quantities of low-cost antimalarial drugs are crucial to making treatment accessible. Artemisin is a potent antimalarial drug which could possibly provide an answer to the large death toll of malaria alltogether. However, production of artemisin is currently too expensive to be widely accessible in rural africa, mostly due to low yields in the production methods. Artemisinin global market size was estimated at USD 61 Million as 2021 (360ResearchReports, 2022). The demand for the product has risen dramatically after the World Health Organization recognized it as a first-line treatment for malaria (WHO, 2018).\n",
    "\n",
    "Artemisin is currently being industrially produced through one of two methods. Firstly, through *Artemisia annua*, a plant which is natively able to synthesisze artimesin from farnesyl pyrophosphate (FPP). However, production using *A. annua* is too slow and costly to meet market demands (Li et al. 2016). Therefore a second alternative was developed by Ro et al. (2006). They used *A. annua*'s artemisin pathway as a framework for engineering an artemisin-producing cell factory. However, the final step of the artemisin pathway, conversion of artemisinic acid to artemisin, is currently unknown. Therefore, they decided to engineer the production of artemisinic acid in *Saccharomyces cerevisiae*, and chemically synthesize the final step of the production, as shown below.\n",
    "\n",
    "![title](Figures/Artemisin_synthesis.png)\n",
    "\n",
    "The engineered biosynthetic pathway above starts at FPP, which is a precursor for steroids in both plants and fungi, and it stems from the mevalonate pathway. From there amorphadiene synthase (ADS) cleaves off the pryophoshpate group to close the ring structures in the molecule, resulting in 4,11-amorphadiene. Cytochrome P450 enzyme (CYP71AV1) catalyzes the monooxidation of 4,11-amorphadiene into artemisinic alcohol, which is further oxidised artemisinic aldehyde and finally artemisinic acid via NAD-dependent artemisinic alcohol dehydrogenase (ADH1) and artemisinic aldehyde dehydrogenase (ALDH1) respectively. The figure is adapted from Li et al. (2016).\n",
    "\n",
    "The conversion from artemisinic acid into artemisinin is generally considered feasible because it's performed at a low cost, with high yields in industry already (Paniego and Guiletti, 1996). Thus, a efficient cell factory, generating high yields of artemisinic acid could be the answer to finding a low-cost antimalarial drug. In this project, we use a simulated Genomic Scale Model (GSM) to test *Aspergillus niger* as a potential production strain of artemisinic acid as an alternative to the yeast strain *S. cerivisiae*, which has been shown to provide too low yields for a sufficient supply at reasonable cost (Li et al. 2016)."
   ]
  },
  {
   "cell_type": "markdown",
   "metadata": {},
   "source": [
    "### 1.2 Literature review of the cell factory (<500 words)"
   ]
  },
  {
   "cell_type": "markdown",
   "metadata": {},
   "source": [
    "## 2. Problem definition (<300 words)\n"
   ]
  },
  {
   "cell_type": "markdown",
   "metadata": {},
   "source": [
    "## 3. *If Project category I:* Reconstruction of a new GSM for your cell factory host of interest (<1500 words)"
   ]
  },
  {
   "cell_type": "markdown",
   "metadata": {},
   "source": [
    "or"
   ]
  },
  {
   "cell_type": "markdown",
   "metadata": {},
   "source": [
    "## 3. *If Project category II:* Selection and assessment of existing GSM (<500 words)"
   ]
  },
  {
   "cell_type": "markdown",
   "metadata": {},
   "source": [
    "## 4. Computer-Aided Cell Factory Engineering (<1500 words if Category II project; <500 words for Category I project)"
   ]
  },
  {
   "cell_type": "markdown",
   "metadata": {},
   "source": [
    "## 5. Discussion (<500 words)"
   ]
  },
  {
   "cell_type": "markdown",
   "metadata": {},
   "source": [
    "## 6. Conclusion (<200 words)"
   ]
  },
  {
   "cell_type": "markdown",
   "metadata": {},
   "source": [
    "## References"
   ]
  },
  {
   "cell_type": "markdown",
   "metadata": {},
   "source": [
    "[1] World Health Organization (WHO) (2022), Malaria, https://www.who.int/news-room/fact-sheets/detail/malaria\n",
    "\n",
    "[2] 360ResearchReports, 2022, Global Artemisinin Industry Research Report, Competitive Landscape, Market Size, Regional Status and Prospect. SKU ID : Maia-21739066\n",
    "\n",
    "[3] World Health Organization (WHO) (2018), Artemisinin resistance and artemisinin-based combination therapy efficacy, Status Report, https://www.who.int/docs/default-source/documents/publications/gmp/who-cds-gmp-2018-26-eng.pdf\n",
    "\n",
    "[4] Li, C., Li, J., Wang, G. and Li, X. (2016), Heterologous biosynthesis of artemisinic acid in Saccharomyces cerevisiae. J Appl Microbiol, 120: 1466-1478. https://doi.org/10.1111/jam.13044\n",
    "\n",
    "[5] Ro, DK., Paradise, E., Ouellet, M. et al. (2006), Production of the antimalarial drug precursor artemisinic acid in engineered yeast. Nature 440, 940–943. https://doi.org/10.1038/nature04640\n",
    "\n",
    "[6] Norma B. Paniego, Ana Maria Giulietti (1996), Artemisinin production by Artemisia annua L.-transformed organ cultures, Enzyme and Microbial Technology, Volume 18, Issue 7, 526-530. https://doi.org/10.1016/0141-0229(95)00216-2.\n"
   ]
  },
  {
   "cell_type": "code",
   "execution_count": null,
   "metadata": {},
   "outputs": [],
   "source": []
  }
 ],
 "metadata": {
  "kernelspec": {
   "display_name": "Python 3 (ipykernel)",
   "language": "python",
   "name": "python3"
  },
  "language_info": {
   "codemirror_mode": {
    "name": "ipython",
    "version": 3
   },
   "file_extension": ".py",
   "mimetype": "text/x-python",
   "name": "python",
   "nbconvert_exporter": "python",
   "pygments_lexer": "ipython3",
   "version": "3.9.12"
  }
 },
 "nbformat": 4,
 "nbformat_minor": 4
}
