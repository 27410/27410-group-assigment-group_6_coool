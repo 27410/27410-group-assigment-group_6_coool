{
 "cells": [
  {
   "cell_type": "code",
   "execution_count": 15,
   "id": "2138293a-ac96-49f7-a386-a7145caa0274",
   "metadata": {},
   "outputs": [
    {
     "name": "stderr",
     "output_type": "stream",
     "text": [
      "'' is not a valid SBML 'SId'.\n"
     ]
    }
   ],
   "source": [
    "%run create_model.py"
   ]
  },
  {
   "cell_type": "code",
   "execution_count": 16,
   "id": "e06776ad-4e35-4360-b835-346810b5c185",
   "metadata": {},
   "outputs": [
    {
     "data": {
      "text/plain": [
       "{'BOUNDARY_GLCe': 10.0,\n",
       " 'BOUNDARY_H2Oe': 1000.0,\n",
       " 'BOUNDARY_HNO3e': 1000.0,\n",
       " 'BOUNDARY_O2e': 1000.0,\n",
       " 'BOUNDARY_PIe': 1000.0,\n",
       " 'BOUNDARY_SLFe': 1000.0,\n",
       " 'BOUNDARY_Ke': 1000.0,\n",
       " 'BOUNDARY_CAe': 1000.0,\n",
       " 'EX_ARTA_e': 1000.0}"
      ]
     },
     "execution_count": 16,
     "metadata": {},
     "output_type": "execute_result"
    }
   ],
   "source": [
    "model.medium"
   ]
  },
  {
   "cell_type": "code",
   "execution_count": 17,
   "id": "b0d0a0df-3b9d-4123-94c2-48eba85aefd5",
   "metadata": {},
   "outputs": [
    {
     "name": "stdout",
     "output_type": "stream",
     "text": [
      "Model objective:  Maximize\n",
      "1.0*DRAIN_Biomass - 1.0*DRAIN_Biomass_reverse_fcc30\n",
      "Value Biomass production (Flux):  0.9398547241492499\n",
      "\n",
      "Model objective:  Maximize\n",
      "1.0*ARTA_ex - 1.0*ARTA_ex_reverse_f17a7\n",
      "Value of artemisinic acid secretion:  2.808134394341291\n",
      "Flux Biomass:  -0.0\n"
     ]
    }
   ],
   "source": [
    "print('Model objective: ', model.objective)\n",
    "print('Value Biomass production (Flux): ', model.optimize().objective_value)\n",
    "with model:\n",
    "    model.objective = model.reactions.ARTA_ex\n",
    "    solution = model.optimize()   #create solution to check fluxes\n",
    "       # model.solver =\"glpk\"\n",
    "    print('\\nModel objective: ', model.objective)\n",
    "    print('Value of artemisinic acid secretion: ', model.optimize().objective_value)\n",
    "    #print('Value of artemisinic acid secretion: ', solution.fluxes.secretion)\n",
    "    print('Flux Biomass: ', solution.fluxes.DRAIN_Biomass)\n",
    "    \n"
   ]
  },
  {
   "cell_type": "code",
   "execution_count": null,
   "id": "86338eb0-58d1-4a78-9d4b-c33ac7298bf5",
   "metadata": {},
   "outputs": [],
   "source": []
  }
 ],
 "metadata": {
  "kernelspec": {
   "display_name": "Python 3 (ipykernel)",
   "language": "python",
   "name": "python3"
  },
  "language_info": {
   "codemirror_mode": {
    "name": "ipython",
    "version": 3
   },
   "file_extension": ".py",
   "mimetype": "text/x-python",
   "name": "python",
   "nbconvert_exporter": "python",
   "pygments_lexer": "ipython3",
   "version": "3.9.7"
  }
 },
 "nbformat": 4,
 "nbformat_minor": 5
}
