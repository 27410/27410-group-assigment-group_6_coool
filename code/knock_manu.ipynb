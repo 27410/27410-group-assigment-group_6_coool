{
 "cells": [
  {
   "cell_type": "code",
   "execution_count": 1,
   "id": "c91e0c61-bcd8-4707-81a7-8b8ae449a64c",
   "metadata": {},
   "outputs": [
    {
     "name": "stderr",
     "output_type": "stream",
     "text": [
      "'' is not a valid SBML 'SId'.\n"
     ]
    }
   ],
   "source": [
    "%run create_model.py\n",
    "import numpy as np\n",
    "import matplotlib.pyplot as plt"
   ]
  },
  {
   "cell_type": "code",
   "execution_count": 2,
   "id": "f449fbf7-ceaa-4514-9805-9b0fca1934d4",
   "metadata": {},
   "outputs": [
    {
     "data": {
      "text/plain": [
       "frozenset({<Reaction ADS_reaction at 0x1f0657e0b50>,\n",
       "           <Reaction r2005 at 0x1f0777fbb20>,\n",
       "           <Reaction r868 at 0x1f0777d7df0>,\n",
       "           <Reaction r869 at 0x1f0777d7fa0>})"
      ]
     },
     "execution_count": 2,
     "metadata": {},
     "output_type": "execute_result"
    }
   ],
   "source": [
    "model.metabolites.FPP.reactions"
   ]
  },
  {
   "cell_type": "code",
   "execution_count": 4,
   "id": "1f4399bb-5c33-4ad2-901a-cb035ac38dfc",
   "metadata": {},
   "outputs": [
    {
     "name": "stdout",
     "output_type": "stream",
     "text": [
      "BM production complete model:  <Solution 0.940 at 0x1f0789e0f10>\n",
      "r2005 knocked out:  <Solution 0.940 at 0x1f0789e0fa0>\n"
     ]
    }
   ],
   "source": [
    "print('BM production complete model: ', model.optimize())\n",
    "with model:\n",
    "    model.reactions.r2005.knock_out()\n",
    "    print('r2005 knocked out: ', model.optimize())"
   ]
  },
  {
   "cell_type": "code",
   "execution_count": 5,
   "id": "741082cd-0562-4d36-af85-6f0bb74dcb1e",
   "metadata": {},
   "outputs": [
    {
     "name": "stdout",
     "output_type": "stream",
     "text": [
      "BM production complete model:  <Solution 0.940 at 0x1f065774dc0>\n",
      "r868 knocked out:  <Solution 0.000 at 0x1f0657bfa60>\n"
     ]
    }
   ],
   "source": [
    "print('BM production complete model: ', model.optimize())\n",
    "with model:\n",
    "    model.reactions.r868.knock_out()\n",
    "    print('r868 knocked out: ', model.optimize())"
   ]
  },
  {
   "cell_type": "code",
   "execution_count": 6,
   "id": "5705321b-4c1a-4915-ac10-f351f8d1d66a",
   "metadata": {},
   "outputs": [
    {
     "name": "stdout",
     "output_type": "stream",
     "text": [
      "BM production complete model:  <Solution 0.940 at 0x1f0657bfee0>\n",
      "r869 knocked out:  <Solution 0.000 at 0x1f06586ebe0>\n"
     ]
    }
   ],
   "source": [
    "print('BM production complete model: ', model.optimize())\n",
    "with model:\n",
    "    model.reactions.r869.knock_out()\n",
    "    print('r869 knocked out: ', model.optimize())"
   ]
  },
  {
   "cell_type": "code",
   "execution_count": 8,
   "id": "3f105777-ce38-4552-a93d-3bf137290ff6",
   "metadata": {},
   "outputs": [
    {
     "name": "stdout",
     "output_type": "stream",
     "text": [
      "Value Biomass production (Flux):  0.9398547241492076\n",
      "(0.0, 1000.0)\n",
      "(0.10442830268324528, 1000)\n",
      "(0.20885660536649056, 1000)\n",
      "(0.31328490804973586, 1000)\n",
      "(0.4177132107329811, 1000)\n",
      "(0.5221415134162264, 1000)\n",
      "(0.6265698160994717, 1000)\n",
      "(0.7309981187827169, 1000)\n",
      "(0.8354264214659622, 1000)\n",
      "(0.9398547241492076, 1000)\n",
      "[2.808134394341276, 2.496119461636692, 2.1841045289321874, 1.8720895962276312, 1.5600746635230467, 1.2480597308183865, 0.9360447981138267, 0.6240298654092915, 0.3120149327047201, 1.4061484198202717e-13]\n"
     ]
    }
   ],
   "source": [
    "#find maximum BM flux without any product flux\n",
    "model.optimize().objective_value\n",
    "BM_max = model.optimize().objective_value\n",
    "print('Value Biomass production (Flux): ', BM_max)\n",
    "\n",
    "#divide BM_max into 10 parts and iterate over it, setting the lower boundary\n",
    "#of BM flux to cumulative sum of parts.\n",
    "#array_biomass = np.arange(0, BM_max, BM_max/10)\n",
    "array_biomass = np.linspace(0, BM_max, num=10)\n",
    "array_secretion = []\n",
    "BM_reaction = Reaction('DRAIN_Biomass')\n",
    "\n",
    "#array_secretion[0] = 9\n",
    "#print(array_biomass)\n",
    "#print(array_secretion)\n",
    "\n",
    "#now build PPP with knock out reaction\n",
    "for i in array_biomass:\n",
    "    with model:\n",
    "        model.reactions.r2005.knock_out()\n",
    "        model.reactions.DRAIN_Biomass.bounds = i, 1000\n",
    "        model.objective = model.reactions.ARTA_ex\n",
    "        solution = model.optimize()    \n",
    "        array_secretion.append(solution.fluxes.ARTA_ex)\n",
    "        #print(model.optimize().objective_value)\n",
    "        print(model.reactions.DRAIN_Biomass.bounds)\n",
    "\n",
    "print(array_secretion)\n"
   ]
  },
  {
   "cell_type": "code",
   "execution_count": 9,
   "id": "cc6897cc-9624-4e90-9baa-9eafcd0cd0c0",
   "metadata": {},
   "outputs": [
    {
     "data": {
      "text/plain": [
       "<matplotlib.collections.PolyCollection at 0x1f078c4c6a0>"
      ]
     },
     "execution_count": 9,
     "metadata": {},
     "output_type": "execute_result"
    },
    {
     "data": {
      "image/png": "[encoded data removed]",
      "text/plain": [
       "<Figure size 640x480 with 1 Axes>"
      ]
     },
     "metadata": {},
     "output_type": "display_data"
    }
   ],
   "source": [
    "fig = plt.plot(array_biomass, array_secretion,)\n",
    "\n",
    "plt.xlabel('Biomass flux')            \n",
    "plt.ylabel('Artemisinic acid secretion flux')\n",
    "plt.fill_between(array_biomass, array_secretion)"
   ]
  },
  {
   "cell_type": "code",
   "execution_count": null,
   "id": "2cfd117d-1d73-484a-b763-038b1632ed35",
   "metadata": {},
   "outputs": [],
   "source": []
  }
 ],
 "metadata": {
  "kernelspec": {
   "display_name": "Python 3 (ipykernel)",
   "language": "python",
   "name": "python3"
  },
  "language_info": {
   "codemirror_mode": {
    "name": "ipython",
    "version": 3
   },
   "file_extension": ".py",
   "mimetype": "text/x-python",
   "name": "python",
   "nbconvert_exporter": "python",
   "pygments_lexer": "ipython3",
   "version": "3.9.13"
  }
 },
 "nbformat": 4,
 "nbformat_minor": 5
}
