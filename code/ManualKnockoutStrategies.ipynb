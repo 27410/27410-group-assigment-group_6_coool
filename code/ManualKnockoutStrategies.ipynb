{
 "cells": [
  {
   "cell_type": "markdown",
   "id": "3b7ab0f3-8aa9-458b-a3eb-0797311b5fc7",
   "metadata": {},
   "source": [
    "**OPTIMIZATION OF STRAIN USING MANUAL DERIVED DESIGNS**\n",
    "\n",
    "In order to develope strain strategies we have looked at the biosynthesis pathway map of Artemisin and try to find the way via knockouts to increase production. The pathway map was manually created through builderEscher and allows a simple visualization of metabolic relationships. The first step was to save the model as a JSON file so Escher could read it. Once the model is uploaded to Escher Builder it is possible to start building the map starting from the final product going upstream. "
   ]
  },
  {
   "cell_type": "code",
   "execution_count": 1,
   "id": "c245b3b6",
   "metadata": {
    "scrolled": true
   },
   "outputs": [
    {
     "name": "stderr",
     "output_type": "stream",
     "text": [
      "'' is not a valid SBML 'SId'.\n"
     ]
    },
    {
     "data": {
      "application/vnd.jupyter.widget-view+json": {
       "model_id": "1aba99a8217f4edd84f3ee00f67b5fdf",
       "version_major": 2,
       "version_minor": 0
      },
      "text/plain": [
       "Builder(never_ask_before_quit=True)"
      ]
     },
     "metadata": {},
     "output_type": "display_data"
    }
   ],
   "source": [
    "import escher\n",
    "from escher import Builder\n",
    "import cobra\n",
    "from time import sleep\n",
    "\n",
    "escher.rc['never_ask_before_quit'] = True\n",
    "\n",
    "from IPython.display import display\n",
    "\n",
    "%run create_model.py\n",
    "a = escher.Builder(map_json = 'Visualization/MAP_ATCC1015.json')\n",
    "display(a)"
   ]
  },
  {
   "cell_type": "markdown",
   "id": "0893b82d",
   "metadata": {},
   "source": [
    "Once the map is built the easiest way to see which reactions threaten the survival of the biomass is to optimize the model for product but contraining the simulation to a minimun of biomass. This way the reactions that have no flux mean are not necessary to mantain that minimum level of biomass and optimize the production of Artemisinic Acid. "
   ]
  },
  {
   "cell_type": "code",
   "execution_count": 2,
   "id": "dde2e91d-c0bd-476a-ba0a-f50e7ab608c7",
   "metadata": {},
   "outputs": [
    {
     "name": "stderr",
     "output_type": "stream",
     "text": [
      "'' is not a valid SBML 'SId'.\n"
     ]
    },
    {
     "data": {
      "application/vnd.jupyter.widget-view+json": {
       "model_id": "2e0144f4450f49edab4abb90626482db",
       "version_major": 2,
       "version_minor": 0
      },
      "text/plain": [
       "Builder(highlight_missing=False, never_ask_before_quit=True, reaction_data={'NE1': 0.0, 'NE2': 0.0, 'r1': -10.…"
      ]
     },
     "metadata": {},
     "output_type": "display_data"
    },
    {
     "name": "stdout",
     "output_type": "stream",
     "text": [
      "Max theorhetical ARTA production:    1.4636069424018847 mmol/( g[dry_weight]*h )\n"
     ]
    }
   ],
   "source": [
    "import escher\n",
    "from escher import Builder\n",
    "import cobra\n",
    "from time import sleep\n",
    "\n",
    "escher.rc['never_ask_before_quit'] = True\n",
    "\n",
    "from IPython.display import display\n",
    "%run create_model.py\n",
    "\n",
    "#Changing the model, can be used to show visuals for any FBA simulation with reaction data included.\n",
    "with model:\n",
    "    constrained_growth = model.problem.Constraint(\n",
    "        model.reactions.get_by_id('DRAIN_Biomass').flux_expression,\n",
    "        lb=0.45,\n",
    "        ub=1)\n",
    "    model.add_cons_vars(constrained_growth)\n",
    "    \n",
    "    model.objective = model.reactions.ARTA_ex\n",
    "    solution = model.optimize()\n",
    "   \n",
    "    b = escher.Builder(map_json = 'Visualization/MAP_ATCC1015.json', reaction_data = solution.fluxes.to_dict(),highlight_missing=False)\n",
    "    display(b)\n",
    "\n",
    "    print('Max theorhetical ARTA production:   ', solution.fluxes['ARTA_ex'], 'mmol/( g[dry_weight]*h )')\n",
    "    \n",
    "    "
   ]
  },
  {
   "cell_type": "code",
   "execution_count": null,
   "id": "5d25d122",
   "metadata": {},
   "outputs": [],
   "source": []
  },
  {
   "cell_type": "code",
   "execution_count": null,
   "id": "e6e47bf5",
   "metadata": {},
   "outputs": [],
   "source": []
  }
 ],
 "metadata": {
  "kernelspec": {
   "display_name": "Python 3 (ipykernel)",
   "language": "python",
   "name": "python3"
  },
  "language_info": {
   "codemirror_mode": {
    "name": "ipython",
    "version": 3
   },
   "file_extension": ".py",
   "mimetype": "text/x-python",
   "name": "python",
   "nbconvert_exporter": "python",
   "pygments_lexer": "ipython3",
   "version": "3.9.7"
  }
 },
 "nbformat": 4,
 "nbformat_minor": 5
}
