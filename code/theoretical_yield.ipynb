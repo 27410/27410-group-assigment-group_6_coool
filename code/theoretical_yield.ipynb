{
 "cells": [
  {
   "cell_type": "code",
   "execution_count": 1,
   "id": "2138293a-ac96-49f7-a386-a7145caa0274",
   "metadata": {},
   "outputs": [
    {
     "name": "stderr",
     "output_type": "stream",
     "text": [
      "'' is not a valid SBML 'SId'.\n"
     ]
    }
   ],
   "source": [
    "%run create_model.py"
   ]
  },
  {
   "cell_type": "code",
   "execution_count": 2,
   "id": "e06776ad-4e35-4360-b835-346810b5c185",
   "metadata": {},
   "outputs": [
    {
     "data": {
      "text/plain": [
       "{'BOUNDARY_GLCe': 10.0,\n",
       " 'BOUNDARY_H2Oe': 1000.0,\n",
       " 'BOUNDARY_HNO3e': 1000.0,\n",
       " 'BOUNDARY_O2e': 1000.0,\n",
       " 'BOUNDARY_PIe': 1000.0,\n",
       " 'BOUNDARY_SLFe': 1000.0,\n",
       " 'BOUNDARY_Ke': 1000.0,\n",
       " 'BOUNDARY_CAe': 1000.0,\n",
       " 'EX_ARTA_e': 1000.0}"
      ]
     },
     "execution_count": 2,
     "metadata": {},
     "output_type": "execute_result"
    }
   ],
   "source": [
    "# default media components\n",
    "model.medium"
   ]
  },
  {
   "cell_type": "code",
   "execution_count": 3,
   "id": "df081a5a-c46c-4122-87a8-a3f109613283",
   "metadata": {},
   "outputs": [
    {
     "name": "stdout",
     "output_type": "stream",
     "text": [
      "Default media\n",
      "Max theorhetical biomass production: 0.9398547241492499 /h\n",
      "Max theorhetical ARTA production:    2.808134394341291 mmol/( g[dry_weight]*h )\n",
      "Max theorhetical ARTA yield:         0.2808134394341291 mmol[ARTA]/mmol[GLC]\n",
      "Max theorhetical ARTA yield in Cmol: 0.7020335985853228 Cmol[ARTA]/Cmol[GLC]\n"
     ]
    }
   ],
   "source": [
    "print('Default media')\n",
    "with model:\n",
    "    # max theorhetical biomass production\n",
    "    biomass_production = model.optimize()\n",
    "    print('Max theorhetical biomass production:', biomass_production.fluxes['DRAIN_Biomass'], '/h')\n",
    "    \n",
    "    # max theorhetical productivity\n",
    "    model.objective = model.reactions.ARTA_ex\n",
    "    ARTA_production = model.optimize().objective_value\n",
    "    print('Max theorhetical ARTA production:   ',  ARTA_production, 'mmol/( g[dry_weight]*h )')\n",
    "    \n",
    "    # max theorhetical yield\n",
    "    max_yield_mol = ARTA_production/(-model.reactions.BOUNDARY_GLCe.flux) #using GLCe.flux here since Glucose is the carbon source.\n",
    "    print('Max theorhetical ARTA yield:        ', max_yield_mol, 'mmol[ARTA]/mmol[GLC]')\n",
    "    \n",
    "    # in Cmol \n",
    "    Cmol_GLC = 6   # Cmol/mol glucose\n",
    "    Cmol_ARTA = 15 # Cmol/mol Artemisinic acid\n",
    "    max_yield_Cmol = max_yield_mol*Cmol_ARTA/Cmol_GLC\n",
    "    print('Max theorhetical ARTA yield in Cmol:', max_yield_Cmol, 'Cmol[ARTA]/Cmol[GLC]')"
   ]
  },
  {
   "cell_type": "markdown",
   "id": "de1221b4-02fa-4bfc-b507-6c346f6ca8a9",
   "metadata": {},
   "source": [
    "Now to test a few different carbon sources:"
   ]
  },
  {
   "cell_type": "code",
   "execution_count": 4,
   "id": "506f177c-8e54-4a8a-bc90-4b5112058303",
   "metadata": {},
   "outputs": [
    {
     "name": "stdout",
     "output_type": "stream",
     "text": [
      "Fructose media\n",
      "Max theorhetical biomass production: 0.9398547241492688 /h\n",
      "Max theorhetical ARTA production:    2.808134394341291 mmol/( g[dry_weight]*h )\n",
      "Max theorhetical ARTA yield:         0.2808134394341291 mmol[ARTA]/mmol[FRU]\n",
      "Max theorhetical ARTA yield in Cmol: 0.7020335985853228 Cmol[ARTA]/Cmol[FRU]\n"
     ]
    }
   ],
   "source": [
    "print('Fructose media')\n",
    "with model:\n",
    "    # changes to media\n",
    "    media = model.medium\n",
    "    media['BOUNDARY_GLCe'] = 0\n",
    "    media['BOUNDARY_FRUe'] = 10\n",
    "    model.medium = media\n",
    "    # max theorhetical biomass production\n",
    "    biomass_production = model.optimize()\n",
    "    print('Max theorhetical biomass production:', biomass_production.fluxes['DRAIN_Biomass'], '/h')\n",
    "    \n",
    "    # max theorhetical productivity\n",
    "    model.objective = model.reactions.ARTA_ex\n",
    "    ARTA_production = model.optimize().objective_value\n",
    "    print('Max theorhetical ARTA production:   ',  ARTA_production, 'mmol/( g[dry_weight]*h )')\n",
    "    \n",
    "    # max theorhetical yield\n",
    "    max_yield_mol = ARTA_production/(-model.reactions.BOUNDARY_FRUe.flux)\n",
    "    print('Max theorhetical ARTA yield:        ', max_yield_mol, 'mmol[ARTA]/mmol[FRU]')\n",
    "    \n",
    "    # in Cmol \n",
    "    max_yield_Cmol = max_yield_mol*Cmol_ARTA/Cmol_GLC #GLC and FRU have the same number of C\n",
    "    print('Max theorhetical ARTA yield in Cmol:', max_yield_Cmol, 'Cmol[ARTA]/Cmol[FRU]')"
   ]
  },
  {
   "cell_type": "markdown",
   "id": "e2b36e29-a7de-495d-b73e-07d07cac30a9",
   "metadata": {},
   "source": [
    "No change from using GLC"
   ]
  },
  {
   "cell_type": "code",
   "execution_count": 5,
   "id": "295bc082-9efc-4ed8-8bea-a4cf8e13f36a",
   "metadata": {},
   "outputs": [
    {
     "name": "stdout",
     "output_type": "stream",
     "text": [
      "Fumarate media\n",
      "Max theorhetical biomass production: 0.46992736207463043 /h\n",
      "Max theorhetical ARTA production:    1.4040671971706455 mmol/( g[dry_weight]*h )\n",
      "Max theorhetical ARTA yield:         0.14040671971706456 mmol[ARTA]/mmol[FUM]\n",
      "Max theorhetical ARTA yield in Cmol: 0.5265251989389921 Cmol[ARTA]/Cmol[FUM]\n"
     ]
    }
   ],
   "source": [
    "print('Fumarate media')\n",
    "with model:\n",
    "    # changes to media\n",
    "    media = model.medium\n",
    "    media['BOUNDARY_GLCe'] = 0\n",
    "    media['BOUNDARY_FUMe'] = 10\n",
    "    model.medium = media\n",
    "    # max theorhetical biomass production\n",
    "    biomass_production = model.optimize()\n",
    "    print('Max theorhetical biomass production:', biomass_production.fluxes['DRAIN_Biomass'], '/h')\n",
    "    \n",
    "    # max theorhetical productivity\n",
    "    model.objective = model.reactions.ARTA_ex\n",
    "    ARTA_production = model.optimize().objective_value\n",
    "    print('Max theorhetical ARTA production:   ',  ARTA_production, 'mmol/( g[dry_weight]*h )')\n",
    "    \n",
    "    # max theorhetical yield\n",
    "    max_yield_mol = ARTA_production/(-model.reactions.BOUNDARY_FUMe.flux)\n",
    "    print('Max theorhetical ARTA yield:        ', max_yield_mol, 'mmol[ARTA]/mmol[FUM]')\n",
    "    \n",
    "    # in Cmol \n",
    "    Cmol_FUM = 4\n",
    "    max_yield_Cmol = max_yield_mol*Cmol_ARTA/Cmol_FUM\n",
    "    print('Max theorhetical ARTA yield in Cmol:', max_yield_Cmol, 'Cmol[ARTA]/Cmol[FUM]')"
   ]
  },
  {
   "cell_type": "code",
   "execution_count": 6,
   "id": "1cb7d1c2-584b-4e43-b56a-043ccdb1d432",
   "metadata": {},
   "outputs": [
    {
     "name": "stdout",
     "output_type": "stream",
     "text": [
      "Pyruvate media\n",
      "Max theorhetical biomass production: 0.39160613506218594 /h\n",
      "Max theorhetical ARTA production:    1.1700559976422058 mmol/( g[dry_weight]*h )\n",
      "Max theorhetical ARTA yield:         0.11700559976422058 mmol[ARTA]/mmol[PYR]\n",
      "Max theorhetical ARTA yield in Cmol: 0.5850279988211029 Cmol[ARTA]/Cmol[PYR]\n"
     ]
    }
   ],
   "source": [
    "print('Pyruvate media')\n",
    "with model:\n",
    "    # changes to media\n",
    "    media = model.medium\n",
    "    media['BOUNDARY_GLCe'] = 0\n",
    "    media['BOUNDARY_PYRe'] = 10\n",
    "    model.medium = media\n",
    "    # max theorhetical biomass production\n",
    "    biomass_production = model.optimize()\n",
    "    print('Max theorhetical biomass production:', biomass_production.fluxes['DRAIN_Biomass'], '/h')\n",
    "    \n",
    "    # max theorhetical productivity\n",
    "    model.objective = model.reactions.ARTA_ex\n",
    "    ARTA_production = model.optimize().objective_value\n",
    "    print('Max theorhetical ARTA production:   ',  ARTA_production, 'mmol/( g[dry_weight]*h )')\n",
    "    \n",
    "    # max theorhetical yield\n",
    "    max_yield_mol = ARTA_production/(-model.reactions.BOUNDARY_PYRe.flux)\n",
    "    print('Max theorhetical ARTA yield:        ', max_yield_mol, 'mmol[ARTA]/mmol[PYR]')\n",
    "    \n",
    "    # in Cmol \n",
    "    Cmol_PYR = 3\n",
    "    max_yield_Cmol = max_yield_mol*Cmol_ARTA/Cmol_PYR\n",
    "    print('Max theorhetical ARTA yield in Cmol:', max_yield_Cmol, 'Cmol[ARTA]/Cmol[PYR]')"
   ]
  },
  {
   "cell_type": "markdown",
   "id": "914f19d9-b271-432a-a583-38b3aac7365e",
   "metadata": {},
   "source": [
    "Fumarate and pyruvate seem to give lower yields. Even when accounted for their lower carbon numbers"
   ]
  },
  {
   "cell_type": "code",
   "execution_count": 7,
   "id": "d175e013-b5a5-4bd7-880e-b7ebb94e96e4",
   "metadata": {},
   "outputs": [
    {
     "name": "stdout",
     "output_type": "stream",
     "text": [
      "Lactose media\n",
      "Max theorhetical biomass production: 1.8797094482985053 /h\n",
      "Max theorhetical ARTA production:    5.616268788682583 mmol/( g[dry_weight]*h )\n",
      "Max theorhetical ARTA yield:         0.5616268788682584 mmol[ARTA]/mmol[LACT]\n",
      "Max theorhetical ARTA yield in Cmol: 0.7020335985853229 Cmol[ARTA]/Cmol[LACT]\n"
     ]
    }
   ],
   "source": [
    "print('Lactose media')\n",
    "\n",
    "with model:\n",
    "    # changes to media\n",
    "    media = model.medium\n",
    "    media['BOUNDARY_GLCe'] = 0\n",
    "    media['BOUNDARY_LACTe'] = 10\n",
    "    model.medium = media\n",
    "    # max theorhetical biomass production\n",
    "    biomass_production = model.optimize()\n",
    "    print('Max theorhetical biomass production:', biomass_production.fluxes['DRAIN_Biomass'], '/h')\n",
    "    \n",
    "    # max theorhetical productivity\n",
    "    model.objective = model.reactions.ARTA_ex\n",
    "    ARTA_production = model.optimize().objective_value\n",
    "    print('Max theorhetical ARTA production:   ',  ARTA_production, 'mmol/( g[dry_weight]*h )')\n",
    "    \n",
    "    # max theorhetical yield\n",
    "    max_yield_mol = ARTA_production/(-model.reactions.BOUNDARY_LACTe.flux)\n",
    "    print('Max theorhetical ARTA yield:        ', max_yield_mol, 'mmol[ARTA]/mmol[LACT]')\n",
    "    \n",
    "    # in Cmol \n",
    "    Cmol_LACT = 12\n",
    "    max_yield_Cmol = max_yield_mol*Cmol_ARTA/Cmol_LACT\n",
    "    print('Max theorhetical ARTA yield in Cmol:', max_yield_Cmol, 'Cmol[ARTA]/Cmol[LACT]')"
   ]
  },
  {
   "cell_type": "code",
   "execution_count": 8,
   "id": "96846594-4cdd-4df7-8069-9e4c0264f7bd",
   "metadata": {},
   "outputs": [
    {
     "name": "stdout",
     "output_type": "stream",
     "text": [
      "Maltose media\n",
      "Max theorhetical biomass production: 1.879709448298497 /h\n",
      "Max theorhetical ARTA production:    5.616268788682589 mmol/( g[dry_weight]*h )\n",
      "Max theorhetical ARTA yield:         0.5616268788682589 mmol[ARTA]/mmol[MLT]\n",
      "Max theorhetical ARTA yield in Cmol: 0.7020335985853237 Cmol[ARTA]/Cmol[MLT]\n"
     ]
    }
   ],
   "source": [
    "print('Maltose media')\n",
    "\n",
    "with model:\n",
    "    # changes to media\n",
    "    media = model.medium\n",
    "    media['BOUNDARY_GLCe'] = 0\n",
    "    media['BOUNDARY_MLTe'] = 10\n",
    "    model.medium = media\n",
    "    # max theorhetical biomass production\n",
    "    biomass_production = model.optimize()\n",
    "    print('Max theorhetical biomass production:', biomass_production.fluxes['DRAIN_Biomass'], '/h')\n",
    "    \n",
    "    # max theorhetical productivity\n",
    "    model.objective = model.reactions.ARTA_ex\n",
    "    ARTA_production = model.optimize().objective_value\n",
    "    print('Max theorhetical ARTA production:   ',  ARTA_production, 'mmol/( g[dry_weight]*h )')\n",
    "    \n",
    "    # max theorhetical yield\n",
    "    max_yield_mol = ARTA_production/(-model.reactions.BOUNDARY_MLTe.flux)\n",
    "    print('Max theorhetical ARTA yield:        ', max_yield_mol, 'mmol[ARTA]/mmol[MLT]')\n",
    "    \n",
    "    # in Cmol \n",
    "    max_yield_Cmol = max_yield_mol*Cmol_ARTA/Cmol_LACT #LACT and MLT have the same number of C\n",
    "    print('Max theorhetical ARTA yield in Cmol:', max_yield_Cmol, 'Cmol[ARTA]/Cmol[MLT]')"
   ]
  },
  {
   "cell_type": "markdown",
   "id": "e66d5576-2812-4695-9b0b-86e8411855e8",
   "metadata": {},
   "source": [
    "Lactose and Maltose give similar numbers, and yield remains the same as glucose, probably because they're disaccharides. Let's see what happens if we use double GLC concentration."
   ]
  },
  {
   "cell_type": "code",
   "execution_count": 9,
   "id": "39c72df2-4535-47cd-97b3-d63a5c62401d",
   "metadata": {},
   "outputs": [
    {
     "name": "stdout",
     "output_type": "stream",
     "text": [
      "Doubled Glucose media\n",
      "Max theorhetical biomass production: 1.8797094482984982 /h\n",
      "Max theorhetical ARTA production:    5.616268788682582 mmol/( g[dry_weight]*h )\n",
      "Max theorhetical ARTA yield:         0.2808134394341291 mmol[ARTA]/mmol[GLC]\n",
      "Max theorhetical ARTA yield in Cmol: 0.7020335985853228 Cmol[ARTA]/Cmol[GLC]\n"
     ]
    }
   ],
   "source": [
    "print('Doubled Glucose media')\n",
    "with model:\n",
    "    # changes to media\n",
    "    media = model.medium\n",
    "    media['BOUNDARY_GLCe'] = 20\n",
    "    model.medium = media\n",
    "    # max theorhetical biomass production\n",
    "    biomass_production = model.optimize()\n",
    "    print('Max theorhetical biomass production:', biomass_production.fluxes['DRAIN_Biomass'], '/h')\n",
    "    \n",
    "    # max theorhetical productivity\n",
    "    model.objective = model.reactions.ARTA_ex\n",
    "    ARTA_production = model.optimize().objective_value\n",
    "    print('Max theorhetical ARTA production:   ',  ARTA_production, 'mmol/( g[dry_weight]*h )')\n",
    "    \n",
    "    # max theorhetical yield\n",
    "    max_yield_mol = ARTA_production/(-model.reactions.BOUNDARY_GLCe.flux) \n",
    "    print('Max theorhetical ARTA yield:        ', max_yield_mol, 'mmol[ARTA]/mmol[GLC]')\n",
    "    \n",
    "    # in Cmol \n",
    "    max_yield_Cmol = max_yield_mol*Cmol_ARTA/Cmol_GLC\n",
    "    print('Max theorhetical ARTA yield in Cmol:', max_yield_Cmol, 'Cmol[ARTA]/Cmol[GLC]')"
   ]
  },
  {
   "cell_type": "markdown",
   "id": "a2caeb4e-6b77-46fa-ba62-6fddb76c0f71",
   "metadata": {},
   "source": [
    "Doubled glucose media matches the numbers of Maltose and Lactose."
   ]
  },
  {
   "cell_type": "markdown",
   "id": "34b0ac0a-84b8-43ad-b029-82e7143bd39e",
   "metadata": {},
   "source": [
    "### YPD Media\n",
    "A commonly used media for *A. niger* is YPD (Yeast Peptone Dextrose broth). \n",
    "We will explore the use of YPD next, and compare it to the numbers from the 'Doubled Glucose media' as the glucose levels match.\n",
    "\n",
    "We start by defining the components of YPD media. However, since YPD media uses yeast extract, which has a very complex composition, we simplified it to a general availability of amino acids + Zinc and Iron2+. We couldn't find other trace ions in the model, such as cobalt and magnesium."
   ]
  },
  {
   "cell_type": "code",
   "execution_count": 10,
   "id": "e3fee354-3046-403a-8535-6e0ab84cc4d1",
   "metadata": {},
   "outputs": [],
   "source": [
    "# defining YPD media\n",
    "YPD_media = model.medium\n",
    "YPD_media['BOUNDARY_GLCe'] = 20\n",
    "YPD_media['BOUNDARY_ALAe'] = 10\n",
    "YPD_media['BOUNDARY_ARGe'] = 10\n",
    "YPD_media['BOUNDARY_ASPe'] = 10\n",
    "YPD_media['BOUNDARY_CYSe'] = 10\n",
    "YPD_media['BOUNDARY_GLUe'] = 10\n",
    "YPD_media['BOUNDARY_GLYe'] = 10\n",
    "YPD_media['BOUNDARY_HISe'] = 10\n",
    "YPD_media['BOUNDARY_ILEe'] = 10\n",
    "YPD_media['BOUNDARY_LEUe'] = 10\n",
    "YPD_media['BOUNDARY_LYSe'] = 10\n",
    "YPD_media['BOUNDARY_METe'] = 10\n",
    "YPD_media['BOUNDARY_PHEe'] = 10\n",
    "YPD_media['BOUNDARY_PROe'] = 10\n",
    "YPD_media['BOUNDARY_SERe'] = 10\n",
    "YPD_media['BOUNDARY_THRe'] = 10\n",
    "YPD_media['BOUNDARY_TRPe'] = 10\n",
    "YPD_media['BOUNDARY_TYRe'] = 10\n",
    "YPD_media['BOUNDARY_VALe'] = 10\n",
    "YPD_media['BOUNDARY_ZNe'] = 10\n",
    "YPD_media['BOUNDARY_FE2e'] = 10"
   ]
  },
  {
   "cell_type": "code",
   "execution_count": 11,
   "id": "83a1fb98-bb4c-492c-a920-af48477c70eb",
   "metadata": {},
   "outputs": [
    {
     "name": "stdout",
     "output_type": "stream",
     "text": [
      "YPD media\n",
      "Max theorhetical biomass production: 15.11538809164669 /h\n",
      "Max theorhetical ARTA production:    40.69437076333643 mmol/( g[dry_weight]*h )\n",
      "Max theorhetical ARTA yield:         0.21418089875440227 mmol[ARTA]/mmol[YPD]\n"
     ]
    }
   ],
   "source": [
    "print('YPD media')\n",
    "with model:\n",
    "    # changes to media\n",
    "    model.medium = YPD_media\n",
    "    \n",
    "    # setting bounds for exchange reactions (new carbon sources introduced)\n",
    "    model.reactions.BOUNDARY_ALAe.bounds = -10, 0\n",
    "    model.reactions.BOUNDARY_ARGe.bounds = -10, 0\n",
    "    model.reactions.BOUNDARY_ASPe.bounds = -10, 0\n",
    "    model.reactions.BOUNDARY_CYSe.bounds = -10, 0\n",
    "    model.reactions.BOUNDARY_GLUe.bounds = -10, 0\n",
    "    model.reactions.BOUNDARY_GLYe.bounds = -10, 0\n",
    "    model.reactions.BOUNDARY_HISe.bounds = -10, 0\n",
    "    model.reactions.BOUNDARY_ILEe.bounds = -10, 0\n",
    "    model.reactions.BOUNDARY_LEUe.bounds = -10, 0\n",
    "    model.reactions.BOUNDARY_LYSe.bounds = -10, 0\n",
    "    model.reactions.BOUNDARY_METe.bounds = -10, 0\n",
    "    model.reactions.BOUNDARY_PHEe.bounds = -10, 0\n",
    "    model.reactions.BOUNDARY_PROe.bounds = -10, 0\n",
    "    model.reactions.BOUNDARY_SERe.bounds = -10, 0\n",
    "    model.reactions.BOUNDARY_THRe.bounds = -10, 0\n",
    "    model.reactions.BOUNDARY_TRPe.bounds = -10, 0\n",
    "    model.reactions.BOUNDARY_TYRe.bounds = -10, 0\n",
    "    model.reactions.BOUNDARY_VALe.bounds = -10, 0\n",
    "    \n",
    "    # max theorhetical biomass production\n",
    "    biomass_production = model.optimize()\n",
    "    print('Max theorhetical biomass production:', biomass_production.fluxes['DRAIN_Biomass'], '/h')\n",
    "    \n",
    "    # max theorhetical productivity\n",
    "    model.objective = model.reactions.ARTA_ex\n",
    "    ARTA_production = model.optimize().objective_value\n",
    "    print('Max theorhetical ARTA production:   ',  ARTA_production, 'mmol/( g[dry_weight]*h )')\n",
    "    \n",
    "    # Sum of all the carbon source fluxes\n",
    "    sum_YPD_fluxes = sum([model.reactions.BOUNDARY_GLCe.flux,\n",
    "    model.reactions.BOUNDARY_ALAe.flux,\n",
    "    model.reactions.BOUNDARY_ARGe.flux,\n",
    "    model.reactions.BOUNDARY_ASPe.flux,\n",
    "    model.reactions.BOUNDARY_CYSe.flux,\n",
    "    model.reactions.BOUNDARY_GLUe.flux,\n",
    "    model.reactions.BOUNDARY_GLYe.flux,\n",
    "    model.reactions.BOUNDARY_HISe.flux,\n",
    "    model.reactions.BOUNDARY_ILEe.flux,\n",
    "    model.reactions.BOUNDARY_LEUe.flux,\n",
    "    model.reactions.BOUNDARY_LYSe.flux,\n",
    "    model.reactions.BOUNDARY_METe.flux,\n",
    "    model.reactions.BOUNDARY_PHEe.flux,\n",
    "    model.reactions.BOUNDARY_PROe.flux,\n",
    "    model.reactions.BOUNDARY_SERe.flux,\n",
    "    model.reactions.BOUNDARY_THRe.flux,\n",
    "    model.reactions.BOUNDARY_TRPe.flux,\n",
    "    model.reactions.BOUNDARY_TYRe.flux,\n",
    "    model.reactions.BOUNDARY_VALe.flux])\n",
    "    \n",
    "    # max theorhetical yield\n",
    "    max_yield_mol = ARTA_production/(-sum_YPD_fluxes) \n",
    "    print('Max theorhetical ARTA yield:        ', max_yield_mol, 'mmol[ARTA]/mmol[YPD]')\n",
    "    \n",
    "    # no Cmol yield, due to the complexity of YPD's composition"
   ]
  },
  {
   "cell_type": "markdown",
   "id": "055f37d6-993f-4cef-85a2-7f62c8b77f01",
   "metadata": {},
   "source": [
    "Lower yield, but unparallelled growth and production rates. Could be due to higher carbon availability, let's see what we get if we combine carbon availability of all the amino acids and replace it with glucose."
   ]
  },
  {
   "cell_type": "code",
   "execution_count": 12,
   "id": "1da25865-0f13-4de3-b316-1a2b3cbee148",
   "metadata": {},
   "outputs": [
    {
     "name": "stdout",
     "output_type": "stream",
     "text": [
      "Pure glucose equivalent of YPD media\n",
      "Max theorhetical biomass production: 15.664245402487792 /h\n",
      "Max theorhetical ARTA production:    46.80223990568812 mmol/( g[dry_weight]*h )\n",
      "Max theorhetical ARTA yield:         0.28081343943412873 mmol[ARTA]/mmol[GLC]\n"
     ]
    }
   ],
   "source": [
    "# carbons in each amino acid\n",
    "Cmol_ALA = 3\n",
    "Cmol_ARG = 6\n",
    "Cmol_ASP = 4\n",
    "Cmol_CYS = 3\n",
    "Cmol_GLU = 5\n",
    "Cmol_GLY = 2\n",
    "Cmol_HIS = 6\n",
    "Cmol_ILE = 6\n",
    "Cmol_LEU = 6\n",
    "Cmol_LYS = 6\n",
    "Cmol_MET = 5\n",
    "Cmol_PHE = 9\n",
    "Cmol_PRO = 5\n",
    "Cmol_SER = 3\n",
    "Cmol_THR = 4\n",
    "Cmol_TRP = 1\n",
    "Cmol_TYR = 9\n",
    "Cmol_VAL = 5\n",
    "\n",
    "sum_AA_Cmol = sum([Cmol_ALA,Cmol_ARG,Cmol_ASP,Cmol_CYS,Cmol_GLU,Cmol_GLY,Cmol_HIS,Cmol_ILE,Cmol_LEU,Cmol_LYS,Cmol_MET,Cmol_PHE,Cmol_PRO,Cmol_SER,Cmol_THR,Cmol_TRP,Cmol_TYR,Cmol_VAL])\n",
    "\n",
    "print('Pure glucose equivalent of YPD media')\n",
    "with model:\n",
    "    # changes to media\n",
    "    media = model.medium\n",
    "    media['BOUNDARY_GLCe'] = 20+sum_AA_Cmol/Cmol_GLC*10\n",
    "    model.medium = media\n",
    "    # max theorhetical biomass production\n",
    "    biomass_production = model.optimize()\n",
    "    print('Max theorhetical biomass production:', biomass_production.fluxes['DRAIN_Biomass'], '/h')\n",
    "    \n",
    "    # max theorhetical productivity\n",
    "    model.objective = model.reactions.ARTA_ex\n",
    "    ARTA_production = model.optimize().objective_value\n",
    "    print('Max theorhetical ARTA production:   ', ARTA_production, 'mmol/( g[dry_weight]*h )')\n",
    "    \n",
    "    # max theorhetical yield\n",
    "    max_yield_mol = ARTA_production/(-model.reactions.BOUNDARY_GLCe.flux) \n",
    "    print('Max theorhetical ARTA yield:        ', max_yield_mol, 'mmol[ARTA]/mmol[GLC]')"
   ]
  },
  {
   "cell_type": "markdown",
   "id": "86e5b7dd-9317-4043-8423-c8d9df5efd77",
   "metadata": {},
   "source": [
    "From this, it's apparent that the growth rates are very similar, however the Artemisinic acid production rates and yield is actually higher with just using pure glucose."
   ]
  },
  {
   "cell_type": "code",
   "execution_count": 13,
   "id": "55214976-a9c3-4f7f-b6c6-fb66eac53124",
   "metadata": {},
   "outputs": [
    {
     "name": "stdout",
     "output_type": "stream",
     "text": [
      "YPD media, w/o Nitric Acid\n",
      "Max theorhetical biomass production: 15.115388091646741 /h\n",
      "Max theorhetical ARTA production:    40.694370763334994 mmol/( g[dry_weight]*h )\n",
      "Max theorhetical ARTA yield:         0.2141808987543947 mmol[ARTA]/mmol[YPD]\n"
     ]
    }
   ],
   "source": [
    "# defining YPD media\n",
    "YPD_media = model.medium\n",
    "YPD_media['BOUNDARY_GLCe'] = 20\n",
    "YPD_media['BOUNDARY_ALAe'] = 10\n",
    "YPD_media['BOUNDARY_ARGe'] = 10\n",
    "YPD_media['BOUNDARY_ASPe'] = 10\n",
    "YPD_media['BOUNDARY_CYSe'] = 10\n",
    "YPD_media['BOUNDARY_GLUe'] = 10\n",
    "YPD_media['BOUNDARY_GLYe'] = 10\n",
    "YPD_media['BOUNDARY_HISe'] = 10\n",
    "YPD_media['BOUNDARY_ILEe'] = 10\n",
    "YPD_media['BOUNDARY_LEUe'] = 10\n",
    "YPD_media['BOUNDARY_LYSe'] = 10\n",
    "YPD_media['BOUNDARY_METe'] = 10\n",
    "YPD_media['BOUNDARY_PHEe'] = 10\n",
    "YPD_media['BOUNDARY_PROe'] = 10\n",
    "YPD_media['BOUNDARY_SERe'] = 10\n",
    "YPD_media['BOUNDARY_THRe'] = 10\n",
    "YPD_media['BOUNDARY_TRPe'] = 10\n",
    "YPD_media['BOUNDARY_TYRe'] = 10\n",
    "YPD_media['BOUNDARY_VALe'] = 10\n",
    "YPD_media['BOUNDARY_ZNe'] = 10\n",
    "YPD_media['BOUNDARY_FE2e'] = 10\n",
    "YPD_media['BOUNDARY_HNO3e'] = 0 # no excess nitrogen in media\n",
    "\n",
    "print('YPD media, w/o Nitric Acid')\n",
    "with model:\n",
    "    # changes to media\n",
    "    model.medium = YPD_media\n",
    "    \n",
    "    # setting bounds for exchange reactions (new carbon sources introduced)\n",
    "    model.reactions.BOUNDARY_ALAe.bounds = -10, 0\n",
    "    model.reactions.BOUNDARY_ARGe.bounds = -10, 0\n",
    "    model.reactions.BOUNDARY_ASPe.bounds = -10, 0\n",
    "    model.reactions.BOUNDARY_CYSe.bounds = -10, 0\n",
    "    model.reactions.BOUNDARY_GLUe.bounds = -10, 0\n",
    "    model.reactions.BOUNDARY_GLYe.bounds = -10, 0\n",
    "    model.reactions.BOUNDARY_HISe.bounds = -10, 0\n",
    "    model.reactions.BOUNDARY_ILEe.bounds = -10, 0\n",
    "    model.reactions.BOUNDARY_LEUe.bounds = -10, 0\n",
    "    model.reactions.BOUNDARY_LYSe.bounds = -10, 0\n",
    "    model.reactions.BOUNDARY_METe.bounds = -10, 0\n",
    "    model.reactions.BOUNDARY_PHEe.bounds = -10, 0\n",
    "    model.reactions.BOUNDARY_PROe.bounds = -10, 0\n",
    "    model.reactions.BOUNDARY_SERe.bounds = -10, 0\n",
    "    model.reactions.BOUNDARY_THRe.bounds = -10, 0\n",
    "    model.reactions.BOUNDARY_TRPe.bounds = -10, 0\n",
    "    model.reactions.BOUNDARY_TYRe.bounds = -10, 0\n",
    "    model.reactions.BOUNDARY_VALe.bounds = -10, 0\n",
    "    \n",
    "    # max theorhetical biomass production\n",
    "    biomass_production = model.optimize()\n",
    "    print('Max theorhetical biomass production:', biomass_production.fluxes['DRAIN_Biomass'], '/h')\n",
    "    \n",
    "    # max theorhetical productivity\n",
    "    model.objective = model.reactions.ARTA_ex\n",
    "    ARTA_production = model.optimize().objective_value\n",
    "    print('Max theorhetical ARTA production:   ',  ARTA_production, 'mmol/( g[dry_weight]*h )')\n",
    "    \n",
    "    # Sum of all the carbon source fluxes\n",
    "    sum_YPD_fluxes = sum([model.reactions.BOUNDARY_GLCe.flux,\n",
    "    model.reactions.BOUNDARY_ALAe.flux,\n",
    "    model.reactions.BOUNDARY_ARGe.flux,\n",
    "    model.reactions.BOUNDARY_ASPe.flux,\n",
    "    model.reactions.BOUNDARY_CYSe.flux,\n",
    "    model.reactions.BOUNDARY_GLUe.flux,\n",
    "    model.reactions.BOUNDARY_GLYe.flux,\n",
    "    model.reactions.BOUNDARY_HISe.flux,\n",
    "    model.reactions.BOUNDARY_ILEe.flux,\n",
    "    model.reactions.BOUNDARY_LEUe.flux,\n",
    "    model.reactions.BOUNDARY_LYSe.flux,\n",
    "    model.reactions.BOUNDARY_METe.flux,\n",
    "    model.reactions.BOUNDARY_PHEe.flux,\n",
    "    model.reactions.BOUNDARY_PROe.flux,\n",
    "    model.reactions.BOUNDARY_SERe.flux,\n",
    "    model.reactions.BOUNDARY_THRe.flux,\n",
    "    model.reactions.BOUNDARY_TRPe.flux,\n",
    "    model.reactions.BOUNDARY_TYRe.flux,\n",
    "    model.reactions.BOUNDARY_VALe.flux])\n",
    "    \n",
    "    # max theorhetical yield\n",
    "    max_yield_mol = ARTA_production/(-sum_YPD_fluxes) \n",
    "    print('Max theorhetical ARTA yield:        ', max_yield_mol, 'mmol[ARTA]/mmol[YPD]')"
   ]
  },
  {
   "cell_type": "code",
   "execution_count": 14,
   "id": "e36abf7e-f5f8-4a5a-b575-b36045afa972",
   "metadata": {},
   "outputs": [
    {
     "name": "stdout",
     "output_type": "stream",
     "text": [
      "Pure glucose equivalent, w/o nitric acid\n",
      "Max theorhetical biomass production: -0.0 /h\n",
      "Max theorhetical ARTA production:    46.802239905688715 mmol/( g[dry_weight]*h )\n",
      "Max theorhetical ARTA yield:         0.2808134394341323 mmol[ARTA]/mmol[GLC]\n"
     ]
    }
   ],
   "source": [
    "print('Pure glucose equivalent, w/o nitric acid')\n",
    "with model:\n",
    "    # changes to media\n",
    "    media = model.medium\n",
    "    media['BOUNDARY_GLCe'] = 20+sum_AA_Cmol/Cmol_GLC*10\n",
    "    media['BOUNDARY_HNO3e'] = 0\n",
    "    model.medium = media\n",
    "    # max theorhetical biomass production\n",
    "    biomass_production = model.optimize()\n",
    "    print('Max theorhetical biomass production:', biomass_production.fluxes['DRAIN_Biomass'], '/h')\n",
    "    \n",
    "    # max theorhetical productivity\n",
    "    model.objective = model.reactions.ARTA_ex\n",
    "    ARTA_production = model.optimize().objective_value\n",
    "    print('Max theorhetical ARTA production:   ', ARTA_production, 'mmol/( g[dry_weight]*h )')\n",
    "    \n",
    "    # max theorhetical yield\n",
    "    max_yield_mol = ARTA_production/(-model.reactions.BOUNDARY_GLCe.flux) \n",
    "    print('Max theorhetical ARTA yield:        ', max_yield_mol, 'mmol[ARTA]/mmol[GLC]')"
   ]
  },
  {
   "cell_type": "markdown",
   "id": "01b5c1fe-afe4-4a0a-bdb4-c7ef809c3212",
   "metadata": {},
   "source": [
    "YPD still a better alternative, since it also serves as a nitrogen source."
   ]
  },
  {
   "cell_type": "markdown",
   "id": "b7f30351-bedc-4602-8c62-b9d1b174f95f",
   "metadata": {},
   "source": [
    "Realistically, the model needs to be constrained to a minimum biomass production to ensure cells don't die. Here, we use 50%. Implemented in `create_new_model.py`."
   ]
  },
  {
   "cell_type": "code",
   "execution_count": 15,
   "id": "127060b5-51bd-4ecc-9999-d5cc528411ff",
   "metadata": {},
   "outputs": [
    {
     "name": "stderr",
     "output_type": "stream",
     "text": [
      "'' is not a valid SBML 'SId'.\n"
     ]
    }
   ],
   "source": [
    "%run create_new_model.py"
   ]
  },
  {
   "cell_type": "code",
   "execution_count": 16,
   "id": "c5fb7361-56c9-4506-8686-d889c5770bde",
   "metadata": {},
   "outputs": [
    {
     "name": "stdout",
     "output_type": "stream",
     "text": [
      "Constrained Biomass production: 7.5577 /h\n",
      "Constrained ARTA production:    21.249260994523272 mmol/( g[dry_weight]*h )\n",
      "Constrained ARTA yield:         0.11694601781054524 mmol[ARTA]/mmol[YPD]\n"
     ]
    }
   ],
   "source": [
    "with model: \n",
    "    model.objective = model.reactions.ARTA_ex\n",
    "    ARTA_production = model.optimize()\n",
    "    print('Constrained Biomass production:', ARTA_production.fluxes['DRAIN_Biomass'], '/h')\n",
    "    print('Constrained ARTA production:   ', ARTA_production.fluxes['ARTA_ex'], 'mmol/( g[dry_weight]*h )')\n",
    "    \n",
    "    # Calculating yield\n",
    "    sum_YPD_fluxes = sum([model.reactions.BOUNDARY_GLCe.flux,\n",
    "    model.reactions.BOUNDARY_ALAe.flux,\n",
    "    model.reactions.BOUNDARY_ARGe.flux,\n",
    "    model.reactions.BOUNDARY_ASPe.flux,\n",
    "    model.reactions.BOUNDARY_CYSe.flux,\n",
    "    model.reactions.BOUNDARY_GLUe.flux,\n",
    "    model.reactions.BOUNDARY_GLYe.flux,\n",
    "    model.reactions.BOUNDARY_HISe.flux,\n",
    "    model.reactions.BOUNDARY_ILEe.flux,\n",
    "    model.reactions.BOUNDARY_LEUe.flux,\n",
    "    model.reactions.BOUNDARY_LYSe.flux,\n",
    "    model.reactions.BOUNDARY_METe.flux,\n",
    "    model.reactions.BOUNDARY_PHEe.flux,\n",
    "    model.reactions.BOUNDARY_PROe.flux,\n",
    "    model.reactions.BOUNDARY_SERe.flux,\n",
    "    model.reactions.BOUNDARY_THRe.flux,\n",
    "    model.reactions.BOUNDARY_TRPe.flux,\n",
    "    model.reactions.BOUNDARY_TYRe.flux,\n",
    "    model.reactions.BOUNDARY_VALe.flux])\n",
    "    \n",
    "    max_yield_mol = ARTA_production.fluxes['ARTA_ex']/(-sum_YPD_fluxes) \n",
    "    print('Constrained ARTA yield:        ', max_yield_mol, 'mmol[ARTA]/mmol[YPD]')\n"
   ]
  },
  {
   "cell_type": "markdown",
   "id": "3a74763c-fb5e-4c76-af9c-c1f37d9970cc",
   "metadata": {},
   "source": [
    "New yield and productivities reflect the constraint of having minimum 50% of theoretical maximum biomass productivity."
   ]
  },
  {
   "cell_type": "code",
   "execution_count": null,
   "id": "44858bd2-208b-4956-8902-6f60c37d6e56",
   "metadata": {},
   "outputs": [],
   "source": []
  }
 ],
 "metadata": {
  "kernelspec": {
   "display_name": "Python 3 (ipykernel)",
   "language": "python",
   "name": "python3"
  },
  "language_info": {
   "codemirror_mode": {
    "name": "ipython",
    "version": 3
   },
   "file_extension": ".py",
   "mimetype": "text/x-python",
   "name": "python",
   "nbconvert_exporter": "python",
   "pygments_lexer": "ipython3",
   "version": "3.9.7"
  }
 },
 "nbformat": 4,
 "nbformat_minor": 5
}
