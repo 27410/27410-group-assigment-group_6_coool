{
 "cells": [
  {
   "cell_type": "code",
   "execution_count": 1,
   "id": "49150564",
   "metadata": {},
   "outputs": [],
   "source": [
    "from cobra.io import read_sbml_model\n",
    "from cobra import Reaction, Metabolite\n"
   ]
  },
  {
   "cell_type": "code",
   "execution_count": 2,
   "id": "031b6bc0",
   "metadata": {},
   "outputs": [
    {
     "name": "stderr",
     "output_type": "stream",
     "text": [
      "'' is not a valid SBML 'SId'.\n"
     ]
    },
    {
     "data": {
      "text/html": [
       "\n",
       "        <table>\n",
       "            <tr>\n",
       "                <td><strong>Name</strong></td>\n",
       "                <td></td>\n",
       "            </tr><tr>\n",
       "                <td><strong>Memory address</strong></td>\n",
       "                <td>0x024feccf0190</td>\n",
       "            </tr><tr>\n",
       "                <td><strong>Number of metabolites</strong></td>\n",
       "                <td>1818</td>\n",
       "            </tr><tr>\n",
       "                <td><strong>Number of reactions</strong></td>\n",
       "                <td>2320</td>\n",
       "            </tr><tr>\n",
       "                <td><strong>Number of groups</strong></td>\n",
       "                <td>0</td>\n",
       "            </tr><tr>\n",
       "                <td><strong>Objective expression</strong></td>\n",
       "                <td>1.0*DRAIN_Biomass - 1.0*DRAIN_Biomass_reverse_fcc30</td>\n",
       "            </tr><tr>\n",
       "                <td><strong>Compartments</strong></td>\n",
       "                <td>Cytoplasm, Mitochondria, Extracellular, Peroxisome, Nucleus, Golgi, Vacuole</td>\n",
       "            </tr>\n",
       "          </table>"
      ],
      "text/plain": [
       "<Model  at 0x24feccf0190>"
      ]
     },
     "execution_count": 2,
     "metadata": {},
     "output_type": "execute_result"
    }
   ],
   "source": [
    "# Load the Aspergillus niger ATCC1015 model\n",
    "model = read_sbml_model('../model/Aspergillus_ATCC1015.xml')\n",
    "model"
   ]
  },
  {
   "cell_type": "code",
   "execution_count": 3,
   "id": "474c9a64",
   "metadata": {},
   "outputs": [
    {
     "name": "stdout",
     "output_type": "stream",
     "text": [
      "FPP \n",
      " trans,trans-Farnesyl diphosphate\n"
     ]
    }
   ],
   "source": [
    "# Find pathway and metabolites\n",
    "for m in model.metabolites.query('Farnesyl', 'name'):\n",
    "    print(m.id,'\\n',m.name)"
   ]
  },
  {
   "cell_type": "code",
   "execution_count": 4,
   "id": "6e2e3bf6",
   "metadata": {},
   "outputs": [],
   "source": [
    "# Create all metabolites\n",
    "Amorphadiene = Metabolite(id = 'amorpha', name = 'Amorphadiene', compartment = 'c')\n",
    "Artemisinic_alcohol = Metabolite(id = 'artem_alcohol', name = 'Artemisinic alcohol', compartment = 'c')\n",
    "Artemisinic_aldehyde = Metabolite(id = 'artem_aldehyde', name = 'Artemisinic aldehyde', compartment = 'c')\n",
    "Artemisinic_acid_c = Metabolite(id = 'artem_acid_c', name = 'Artemisinic acid_c', compartment = 'c')\n",
    "Artemisinic_acid_e = Metabolite(id = 'artem_acid_e', name = 'Artemisinic acid_e', compartment = 'e')\n"
   ]
  },
  {
   "cell_type": "code",
   "execution_count": 7,
   "id": "c652d42c",
   "metadata": {},
   "outputs": [
    {
     "name": "stderr",
     "output_type": "stream",
     "text": [
      "Ignoring reaction 'ADS_reaction' since it already exists.\n",
      "Ignoring reaction 'CYP1/AV1CYPCPR1CYB5_reaction' since it already exists.\n",
      "Ignoring reaction 'ADH1_reaction' since it already exists.\n",
      "Ignoring reaction 'ALDH1_reaction' since it already exists.\n",
      "Ignoring reaction 'secretion' since it already exists.\n"
     ]
    },
    {
     "name": "stdout",
     "output_type": "stream",
     "text": [
      "FPP --> amorpha  added.\n",
      "amorpha --> artem_alcohol  added.\n",
      "artem_alcohol --> artem_aldehyde  added.\n",
      "artem_aldehyde --> artem_acid_c  added.\n",
      "artem_acid_c --> artem_acid_e  added.\n"
     ]
    },
    {
     "ename": "ValueError",
     "evalue": "Boundary reaction 'EX_artem_acid_e' already exists.",
     "output_type": "error",
     "traceback": [
      "\u001b[1;31m---------------------------------------------------------------------------\u001b[0m",
      "\u001b[1;31mValueError\u001b[0m                                Traceback (most recent call last)",
      "\u001b[1;32m~\\AppData\\Local\\Temp/ipykernel_17740/3938708636.py\u001b[0m in \u001b[0;36m<module>\u001b[1;34m\u001b[0m\n\u001b[0;32m     17\u001b[0m \u001b[1;31m#create exchange reaction for secretion\u001b[0m\u001b[1;33m\u001b[0m\u001b[1;33m\u001b[0m\u001b[0m\n\u001b[0;32m     18\u001b[0m \u001b[0madd_reaction\u001b[0m\u001b[1;33m(\u001b[0m\u001b[0mArtemisinic_acid_c\u001b[0m\u001b[1;33m,\u001b[0m \u001b[0mArtemisinic_acid_e\u001b[0m\u001b[1;33m,\u001b[0m \u001b[1;34m'secretion'\u001b[0m\u001b[1;33m)\u001b[0m\u001b[1;33m\u001b[0m\u001b[1;33m\u001b[0m\u001b[0m\n\u001b[1;32m---> 19\u001b[1;33m \u001b[0mmodel\u001b[0m\u001b[1;33m.\u001b[0m\u001b[0madd_boundary\u001b[0m\u001b[1;33m(\u001b[0m\u001b[0mmodel\u001b[0m\u001b[1;33m.\u001b[0m\u001b[0mmetabolites\u001b[0m\u001b[1;33m.\u001b[0m\u001b[0mget_by_id\u001b[0m\u001b[1;33m(\u001b[0m\u001b[1;34m\"artem_acid_e\"\u001b[0m\u001b[1;33m)\u001b[0m\u001b[1;33m,\u001b[0m \u001b[0mtype\u001b[0m\u001b[1;33m=\u001b[0m\u001b[1;34m\"exchange\"\u001b[0m\u001b[1;33m)\u001b[0m\u001b[1;33m\u001b[0m\u001b[1;33m\u001b[0m\u001b[0m\n\u001b[0m",
      "\u001b[1;32m~\\anaconda3\\lib\\site-packages\\cobra\\core\\model.py\u001b[0m in \u001b[0;36madd_boundary\u001b[1;34m(self, metabolite, type, reaction_id, lb, ub, sbo_term)\u001b[0m\n\u001b[0;32m    624\u001b[0m             )\n\u001b[0;32m    625\u001b[0m         \u001b[1;32mif\u001b[0m \u001b[0mreaction_id\u001b[0m \u001b[1;32min\u001b[0m \u001b[0mself\u001b[0m\u001b[1;33m.\u001b[0m\u001b[0mreactions\u001b[0m\u001b[1;33m:\u001b[0m\u001b[1;33m\u001b[0m\u001b[1;33m\u001b[0m\u001b[0m\n\u001b[1;32m--> 626\u001b[1;33m             raise ValueError(\n\u001b[0m\u001b[0;32m    627\u001b[0m                 \u001b[1;34m\"Boundary reaction '{}' already exists.\"\u001b[0m\u001b[1;33m.\u001b[0m\u001b[0mformat\u001b[0m\u001b[1;33m(\u001b[0m\u001b[0mreaction_id\u001b[0m\u001b[1;33m)\u001b[0m\u001b[1;33m\u001b[0m\u001b[1;33m\u001b[0m\u001b[0m\n\u001b[0;32m    628\u001b[0m             )\n",
      "\u001b[1;31mValueError\u001b[0m: Boundary reaction 'EX_artem_acid_e' already exists."
     ]
    }
   ],
   "source": [
    "# Create all reactions\n",
    "def add_reaction (meta1, meta2, name):\n",
    "    new_reaction = Reaction(name)\n",
    "    new_reaction.add_metabolites({\n",
    "        meta1: -1,\n",
    "        meta2: 1\n",
    "    })\n",
    "    model.add_reactions([new_reaction])\n",
    "    print(new_reaction.build_reaction_string(), \" added.\")\n",
    "\n",
    "add_reaction(model.metabolites.FPP, Amorphadiene, 'ADS_reaction')\n",
    "add_reaction(Amorphadiene, Artemisinic_alcohol, 'CYP1/AV1CYPCPR1CYB5_reaction')\n",
    "add_reaction(Artemisinic_alcohol, Artemisinic_aldehyde, 'ADH1_reaction')\n",
    "add_reaction(Artemisinic_aldehyde, Artemisinic_acid_c, 'ALDH1_reaction')\n",
    "\n",
    "\n",
    "#create exchange reaction for secretion\n",
    "add_reaction(Artemisinic_acid_c, Artemisinic_acid_e, 'secretion')\n",
    "model.add_boundary(model.metabolites.get_by_id(\"artem_acid_e\"), type=\"exchange\")"
   ]
  },
  {
   "cell_type": "code",
   "execution_count": 6,
   "id": "9218896b",
   "metadata": {},
   "outputs": [
    {
     "name": "stdout",
     "output_type": "stream",
     "text": [
      "2.808134394341298\n"
     ]
    }
   ],
   "source": [
    "with model:\n",
    "    model.objective = model.reactions.secretion\n",
    "   # model.solver =\"glpk\"\n",
    "    print(model.optimize().objective_value)\n",
    "    "
   ]
  },
  {
   "cell_type": "code",
   "execution_count": null,
   "id": "53c65e76",
   "metadata": {},
   "outputs": [],
   "source": []
  },
  {
   "cell_type": "code",
   "execution_count": null,
   "id": "dda40a33-815a-4802-9e24-aa22f9238f3a",
   "metadata": {},
   "outputs": [],
   "source": []
  }
 ],
 "metadata": {
  "kernelspec": {
   "display_name": "Python 3 (ipykernel)",
   "language": "python",
   "name": "python3"
  },
  "language_info": {
   "codemirror_mode": {
    "name": "ipython",
    "version": 3
   },
   "file_extension": ".py",
   "mimetype": "text/x-python",
   "name": "python",
   "nbconvert_exporter": "python",
   "pygments_lexer": "ipython3",
   "version": "3.9.7"
  }
 },
 "nbformat": 4,
 "nbformat_minor": 5
}
