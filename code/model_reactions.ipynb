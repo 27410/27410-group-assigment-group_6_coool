{
 "cells": [
  {
   "cell_type": "code",
   "execution_count": 1,
   "id": "49150564",
   "metadata": {},
   "outputs": [],
   "source": [
    "from cobra.io import read_sbml_model\n",
    "from cobra import Reaction, Metabolite\n"
   ]
  },
  {
   "cell_type": "code",
   "execution_count": 3,
   "id": "031b6bc0",
   "metadata": {},
   "outputs": [
    {
     "name": "stderr",
     "output_type": "stream",
     "text": [
      "'' is not a valid SBML 'SId'.\n"
     ]
    },
    {
     "data": {
      "text/html": [
       "\n",
       "        <table>\n",
       "            <tr>\n",
       "                <td><strong>Name</strong></td>\n",
       "                <td></td>\n",
       "            </tr><tr>\n",
       "                <td><strong>Memory address</strong></td>\n",
       "                <td>0x07fd5717064c0</td>\n",
       "            </tr><tr>\n",
       "                <td><strong>Number of metabolites</strong></td>\n",
       "                <td>1818</td>\n",
       "            </tr><tr>\n",
       "                <td><strong>Number of reactions</strong></td>\n",
       "                <td>2320</td>\n",
       "            </tr><tr>\n",
       "                <td><strong>Number of groups</strong></td>\n",
       "                <td>0</td>\n",
       "            </tr><tr>\n",
       "                <td><strong>Objective expression</strong></td>\n",
       "                <td>1.0*DRAIN_Biomass - 1.0*DRAIN_Biomass_reverse_fcc30</td>\n",
       "            </tr><tr>\n",
       "                <td><strong>Compartments</strong></td>\n",
       "                <td>Cytoplasm, Mitochondria, Extracellular, Peroxisome, Nucleus, Golgi, Vacuole</td>\n",
       "            </tr>\n",
       "          </table>"
      ],
      "text/plain": [
       "<Model  at 0x7fd5717064c0>"
      ]
     },
     "execution_count": 3,
     "metadata": {},
     "output_type": "execute_result"
    }
   ],
   "source": [
    "# Load the Aspergillus niger ATCC1015 model\n",
    "model = read_sbml_model('../model/40694_2018_60_MOESM2_ESM.xml')\n",
    "model"
   ]
  },
  {
   "cell_type": "code",
   "execution_count": 11,
   "id": "474c9a64",
   "metadata": {},
   "outputs": [
    {
     "name": "stdout",
     "output_type": "stream",
     "text": [
      "FPP \n",
      " trans,trans-Farnesyl diphosphate\n"
     ]
    }
   ],
   "source": [
    "# Find pathway and metabolites\n",
    "for m in model.metabolites.query('Farnesyl', 'name'):\n",
    "    print(m.id, '\\n', m.name)"
   ]
  },
  {
   "cell_type": "code",
   "execution_count": 21,
   "id": "6e2e3bf6",
   "metadata": {},
   "outputs": [],
   "source": [
    "# Create all metabolites\n",
    "Amorphadiene = Metabolite(id = 'amorpha', name = 'Amorphadiene', compartment = 'c')\n",
    "Artemisinic_alcohol = Metabolite(id = 'artem_alcohol', name = 'Artemisinic alcohol', compartment = 'c')\n",
    "Artemisinic_aldehyde = Metabolite(id = 'artem_aldehyde', name = 'Artemisinic aldehyde', compartment = 'c')\n",
    "Artemisinic_acid = Metabolite(id = 'artem_acid', name = 'Artemisinic acid', compartment = 'c')\n"
   ]
  },
  {
   "cell_type": "code",
   "execution_count": 23,
   "id": "c652d42c",
   "metadata": {},
   "outputs": [
    {
     "name": "stdout",
     "output_type": "stream",
     "text": [
      "FPP --> amorpha  added.\n",
      "amorpha --> artem_alcohol  added.\n",
      "artem_alcohol --> artem_aldehyde  added.\n",
      "artem_aldehyde --> artem_acid  added.\n"
     ]
    }
   ],
   "source": [
    "# Create all reactions\n",
    "def add_reaction (meta1, meta2, name):\n",
    "    new_reaction = Reaction(name)\n",
    "    new_reaction.add_metabolites({\n",
    "        meta1: -1,\n",
    "        meta2: 1\n",
    "    })\n",
    "    model.add_reactions([new_reaction])\n",
    "    print(new_reaction.build_reaction_string(), \" added.\")\n",
    "\n",
    "add_reaction(model.metabolites.FPP, Amorphadiene, 'ADS_reaction')\n",
    "add_reaction(Amorphadiene, Artemisinic_alcohol, 'CYP1/AV1CYPCPR1CYB5_reaction')\n",
    "add_reaction(Artemisinic_alcohol, Artemisinic_aldehyde, 'ADH1_reaction')\n",
    "add_reaction(Artemisinic_aldehyde, Artemisinic_acid, 'ALDH1_reaction')\n"
   ]
  },
  {
   "cell_type": "code",
   "execution_count": 18,
   "id": "9218896b",
   "metadata": {},
   "outputs": [
    {
     "data": {
      "text/html": [
       "\n",
       "        <table>\n",
       "            <tr>\n",
       "                <td><strong>Metabolite identifier</strong></td><td>ads</td>\n",
       "            </tr><tr>\n",
       "                <td><strong>Name</strong></td><td>ADS</td>\n",
       "            </tr><tr>\n",
       "                <td><strong>Memory address</strong></td>\n",
       "                <td>0x7fd55bbd98b0</td>\n",
       "            </tr><tr>\n",
       "                <td><strong>Formula</strong></td><td>None</td>\n",
       "            </tr><tr>\n",
       "                <td><strong>Compartment</strong></td><td>c</td>\n",
       "            </tr><tr>\n",
       "                <td><strong>In 3 reaction(s)</strong></td><td>\n",
       "                    FPP_ADS_reaction, FPP_ADS_reaction, FPP_ADS_reaction\n",
       "                    </td>\n",
       "            </tr>\n",
       "        </table>"
      ],
      "text/plain": [
       "<Metabolite ads at 0x7fd55bbd98b0>"
      ]
     },
     "execution_count": 18,
     "metadata": {},
     "output_type": "execute_result"
    }
   ],
   "source": [
    "model.metabolites.ads"
   ]
  },
  {
   "cell_type": "code",
   "execution_count": null,
   "id": "53c65e76",
   "metadata": {},
   "outputs": [],
   "source": []
  }
 ],
 "metadata": {
  "kernelspec": {
   "display_name": "Python 3 (ipykernel)",
   "language": "python",
   "name": "python3"
  },
  "language_info": {
   "codemirror_mode": {
    "name": "ipython",
    "version": 3
   },
   "file_extension": ".py",
   "mimetype": "text/x-python",
   "name": "python",
   "nbconvert_exporter": "python",
   "pygments_lexer": "ipython3",
   "version": "3.9.12"
  }
 },
 "nbformat": 4,
 "nbformat_minor": 5
}
