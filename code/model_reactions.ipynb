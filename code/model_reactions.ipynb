{
 "cells": [
  {
   "cell_type": "code",
   "execution_count": 1,
   "id": "49150564",
   "metadata": {},
   "outputs": [],
   "source": [
    "from cobra.io import read_sbml_model\n",
    "from cobra import Reaction, Metabolite\n"
   ]
  },
  {
   "cell_type": "code",
   "execution_count": 2,
   "id": "031b6bc0",
   "metadata": {},
   "outputs": [
    {
     "name": "stderr",
     "output_type": "stream",
     "text": [
      "'' is not a valid SBML 'SId'.\n"
     ]
    },
    {
     "data": {
      "text/html": [
       "\n",
       "        <table>\n",
       "            <tr>\n",
       "                <td><strong>Name</strong></td>\n",
       "                <td></td>\n",
       "            </tr><tr>\n",
       "                <td><strong>Memory address</strong></td>\n",
       "                <td>0x01b5e934eeb0</td>\n",
       "            </tr><tr>\n",
       "                <td><strong>Number of metabolites</strong></td>\n",
       "                <td>1818</td>\n",
       "            </tr><tr>\n",
       "                <td><strong>Number of reactions</strong></td>\n",
       "                <td>2320</td>\n",
       "            </tr><tr>\n",
       "                <td><strong>Number of groups</strong></td>\n",
       "                <td>0</td>\n",
       "            </tr><tr>\n",
       "                <td><strong>Objective expression</strong></td>\n",
       "                <td>1.0*DRAIN_Biomass - 1.0*DRAIN_Biomass_reverse_fcc30</td>\n",
       "            </tr><tr>\n",
       "                <td><strong>Compartments</strong></td>\n",
       "                <td>Cytoplasm, Mitochondria, Extracellular, Peroxisome, Nucleus, Golgi, Vacuole</td>\n",
       "            </tr>\n",
       "          </table>"
      ],
      "text/plain": [
       "<Model  at 0x1b5e934eeb0>"
      ]
     },
     "execution_count": 2,
     "metadata": {},
     "output_type": "execute_result"
    }
   ],
   "source": [
    "# Load the Aspergillus niger ATCC1015 model\n",
    "model = read_sbml_model('../model/Aspergillus_ATCC1015.xml')\n",
    "model"
   ]
  },
  {
   "cell_type": "code",
   "execution_count": 3,
   "id": "474c9a64",
   "metadata": {},
   "outputs": [
    {
     "name": "stdout",
     "output_type": "stream",
     "text": [
      "FPP \n",
      " trans,trans-Farnesyl diphosphate\n"
     ]
    }
   ],
   "source": [
    "# Find pathway and metabolites\n",
    "for m in model.metabolites.query('Farnesyl', 'name'):\n",
    "    print(m.id,'\\n',m.name)"
   ]
  },
  {
   "cell_type": "code",
   "execution_count": 4,
   "id": "6e2e3bf6",
   "metadata": {},
   "outputs": [],
   "source": [
    "# Create all metabolites\n",
    "Amorphadiene = Metabolite(id = 'amorpha', name = 'Amorphadiene', compartment = 'c')\n",
    "Artemisinic_alcohol = Metabolite(id = 'artem_alcohol', name = 'Artemisinic alcohol', compartment = 'c')\n",
    "Artemisinic_aldehyde = Metabolite(id = 'artem_aldehyde', name = 'Artemisinic aldehyde', compartment = 'c')\n",
    "Artemisinic_acid_c = Metabolite(id = 'artem_acid_c', name = 'Artemisinic acid_c', compartment = 'c')\n",
    "Artemisinic_acid_e = Metabolite(id = 'artem_acid_e', name = 'Artemisinic acid_e', compartment = 'e')\n"
   ]
  },
  {
   "cell_type": "code",
   "execution_count": 5,
   "id": "c652d42c",
   "metadata": {},
   "outputs": [
    {
     "name": "stdout",
     "output_type": "stream",
     "text": [
      "FPP --> amorpha  added.\n",
      "amorpha --> artem_alcohol  added.\n",
      "artem_alcohol --> artem_aldehyde  added.\n",
      "artem_aldehyde --> artem_acid_c  added.\n",
      "artem_acid_c --> artem_acid_e  added.\n"
     ]
    },
    {
     "data": {
      "text/html": [
       "\n",
       "        <table>\n",
       "            <tr>\n",
       "                <td><strong>Reaction identifier</strong></td><td>EX_artem_acid_e</td>\n",
       "            </tr><tr>\n",
       "                <td><strong>Name</strong></td><td>Artemisinic acid_e exchange</td>\n",
       "            </tr><tr>\n",
       "                <td><strong>Memory address</strong></td>\n",
       "                <td>0x1b5fa3a3d30</td>\n",
       "            </tr><tr>\n",
       "                <td><strong>Stoichiometry</strong></td>\n",
       "                <td>\n",
       "                    <p style='text-align:right'>artem_acid_e <=></p>\n",
       "                    <p style='text-align:right'>Artemisinic acid_e <=></p>\n",
       "                </td>\n",
       "            </tr><tr>\n",
       "                <td><strong>GPR</strong></td><td></td>\n",
       "            </tr><tr>\n",
       "                <td><strong>Lower bound</strong></td><td>-1000.0</td>\n",
       "            </tr><tr>\n",
       "                <td><strong>Upper bound</strong></td><td>1000.0</td>\n",
       "            </tr>\n",
       "        </table>\n",
       "        "
      ],
      "text/plain": [
       "<Reaction EX_artem_acid_e at 0x1b5fa3a3d30>"
      ]
     },
     "execution_count": 5,
     "metadata": {},
     "output_type": "execute_result"
    }
   ],
   "source": [
    "# Create all reactions ##changed name to ID in function attributes for clarification\n",
    "def add_reaction (meta1, meta2, ID):\n",
    "    new_reaction = Reaction(ID)\n",
    "    new_reaction.add_metabolites({\n",
    "        meta1: -1,\n",
    "        meta2: 1\n",
    "    })\n",
    "    model.add_reactions([new_reaction])\n",
    "    print(new_reaction.build_reaction_string(), \" added.\")\n",
    "\n",
    "add_reaction(model.metabolites.FPP, Amorphadiene, 'ADS_reaction')\n",
    "add_reaction(Amorphadiene, Artemisinic_alcohol, 'CYP1/AV1CYPCPR1CYB5_reaction')\n",
    "add_reaction(Artemisinic_alcohol, Artemisinic_aldehyde, 'ADH1_reaction')\n",
    "add_reaction(Artemisinic_aldehyde, Artemisinic_acid_c, 'ALDH1_reaction')\n",
    "\n",
    "\n",
    "#create exchange reaction for secretion\n",
    "add_reaction(Artemisinic_acid_c, Artemisinic_acid_e, 'secretion')\n",
    "model.add_boundary(model.metabolites.get_by_id(\"artem_acid_e\"), type=\"exchange\")"
   ]
  },
  {
   "cell_type": "code",
   "execution_count": 76,
   "id": "9218896b",
   "metadata": {},
   "outputs": [
    {
     "name": "stdout",
     "output_type": "stream",
     "text": [
      "Model objective:  Maximize\n",
      "1.0*DRAIN_Biomass - 1.0*DRAIN_Biomass_reverse_fcc30\n",
      "Value Biomass production (Flux):  0.9398547241492543\n",
      "\n",
      "Model objective:  Maximize\n",
      "1.0*secretion - 1.0*secretion_reverse_c5a7c\n",
      "Value of artemisinic acid secretion:  2.8081343943412915\n",
      "Flux Biomass:  0.0\n"
     ]
    }
   ],
   "source": [
    "print('Model objective: ', model.objective)\n",
    "print('Value Biomass production (Flux): ', model.optimize().objective_value)\n",
    "with model:\n",
    "    model.objective = model.reactions.secretion\n",
    "    solution = model.optimize()   #create solution to check fluxes\n",
    "   # model.solver =\"glpk\"\n",
    "    print('\\nModel objective: ', model.objective)\n",
    "    print('Value of artemisinic acid secretion: ', model.optimize().objective_value)\n",
    "    #print('Value of artemisinic acid secretion: ', solution.fluxes.secretion)\n",
    "    print('Flux Biomass: ', solution.fluxes.DRAIN_Biomass)\n",
    "    "
   ]
  },
  {
   "cell_type": "code",
   "execution_count": 80,
   "id": "66e6b250-fa54-4382-86a3-4b3757c8ac7a",
   "metadata": {},
   "outputs": [
    {
     "name": "stdout",
     "output_type": "stream",
     "text": [
      "Model objective:  Maximize\n",
      "1.0*DRAIN_Biomass - 1.0*DRAIN_Biomass_reverse_fcc30\n",
      "with Biomass production as objective function: \n",
      "-34.85190304078644\n",
      "Model objective:  Maximize\n",
      "1.0*r54 - 1.0*r54_reverse_01081\n",
      "with self production as objective function: \n",
      "106.95652173913032\n",
      "\n",
      "Flux Biomass:  0.0\n"
     ]
    }
   ],
   "source": [
    "#Just to fuck around. ignore\n",
    "print('Model objective: ', model.objective)\n",
    "print('with Biomass production as objective function: ')\n",
    "solution = model.optimize()\n",
    "print(solution.fluxes.r54)\n",
    "\n",
    "with model:\n",
    "    model.objective = model.reactions.r54\n",
    "    print('Model objective: ', model.objective)\n",
    "    print('with self production as objective function: ')\n",
    "    solution = model.optimize()\n",
    "    print(solution.fluxes.r54)\n",
    "    \n",
    "    print('\\nFlux Biomass: ', solution.fluxes.DRAIN_Biomass)"
   ]
  },
  {
   "cell_type": "code",
   "execution_count": 81,
   "id": "53c65e76",
   "metadata": {},
   "outputs": [
    {
     "name": "stdout",
     "output_type": "stream",
     "text": [
      "DRAIN_Biomass DRAIN_Biomass: BIOMASS -->  \n"
     ]
    }
   ],
   "source": [
    "#check what reaction is biomass reaction\n",
    "for reaction in model.reactions.query('mass', 'id'):\n",
    "    print(reaction.id, reaction, reaction.name)"
   ]
  },
  {
   "cell_type": "code",
   "execution_count": null,
   "id": "dda40a33-815a-4802-9e24-aa22f9238f3a",
   "metadata": {},
   "outputs": [],
   "source": []
  },
  {
   "cell_type": "code",
   "execution_count": null,
   "id": "f4024b8f-8136-4c1b-8a4a-220588319f67",
   "metadata": {},
   "outputs": [],
   "source": []
  },
  {
   "cell_type": "code",
   "execution_count": null,
   "id": "74cd868d-14f3-4abb-a071-9fc97ceecb47",
   "metadata": {},
   "outputs": [],
   "source": []
  },
  {
   "cell_type": "code",
   "execution_count": null,
   "id": "4f90eaab-e37d-41eb-9522-c730dcb449b8",
   "metadata": {},
   "outputs": [],
   "source": []
  }
 ],
 "metadata": {
  "kernelspec": {
   "display_name": "Python 3 (ipykernel)",
   "language": "python",
   "name": "python3"
  },
  "language_info": {
   "codemirror_mode": {
    "name": "ipython",
    "version": 3
   },
   "file_extension": ".py",
   "mimetype": "text/x-python",
   "name": "python",
   "nbconvert_exporter": "python",
   "pygments_lexer": "ipython3",
   "version": "3.9.12"
  }
 },
 "nbformat": 4,
 "nbformat_minor": 5
}
