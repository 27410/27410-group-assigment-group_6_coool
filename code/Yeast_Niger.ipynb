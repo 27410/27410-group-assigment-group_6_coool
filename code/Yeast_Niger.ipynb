{
 "cells": [
  {
   "cell_type": "markdown",
   "id": "7d456847",
   "metadata": {},
   "source": [
    "\n",
    "\n"
   ]
  },
  {
   "cell_type": "code",
   "execution_count": 1,
   "id": "340d2a95",
   "metadata": {},
   "outputs": [
    {
     "name": "stderr",
     "output_type": "stream",
     "text": [
      "'' is not a valid SBML 'SId'.\n"
     ]
    },
    {
     "data": {
      "text/html": [
       "\n",
       "        <table>\n",
       "            <tr>\n",
       "                <td><strong>Name</strong></td>\n",
       "                <td></td>\n",
       "            </tr><tr>\n",
       "                <td><strong>Memory address</strong></td>\n",
       "                <td>233363f9e50</td>\n",
       "            </tr><tr>\n",
       "                <td><strong>Number of metabolites</strong></td>\n",
       "                <td>1823</td>\n",
       "            </tr><tr>\n",
       "                <td><strong>Number of reactions</strong></td>\n",
       "                <td>2326</td>\n",
       "            </tr><tr>\n",
       "                <td><strong>Number of genes</strong></td>\n",
       "                <td>1325</td>\n",
       "            </tr><tr>\n",
       "                <td><strong>Number of groups</strong></td>\n",
       "                <td>0</td>\n",
       "            </tr><tr>\n",
       "                <td><strong>Objective expression</strong></td>\n",
       "                <td>1.0*DRAIN_Biomass - 1.0*DRAIN_Biomass_reverse_fcc30</td>\n",
       "            </tr><tr>\n",
       "                <td><strong>Compartments</strong></td>\n",
       "                <td>Cytoplasm, Mitochondria, Extracellular, Peroxisome, Nucleus, Golgi, Vacuole</td>\n",
       "            </tr>\n",
       "          </table>"
      ],
      "text/plain": [
       "<Model  at 0x233363f9e50>"
      ]
     },
     "execution_count": 1,
     "metadata": {},
     "output_type": "execute_result"
    }
   ],
   "source": [
    "# runs biomass vs. productivity PPP for S. cervisiae and A. niger\n",
    "\n",
    "#can't use cameo, therefore manual model loading\n",
    "from cobra.io import read_sbml_model\n",
    "modelY = read_sbml_model('../model/iMM904.xml')\n",
    "from cobra.io import read_sbml_model\n",
    "from cobra import Reaction, Metabolite\n",
    "\n",
    "\n",
    "\n",
    "# Create all metabolites\n",
    "Amorphadiene = Metabolite(id = 'amorpha', name = 'Amorphadiene', compartment = 'c')\n",
    "Artemisinic_alcohol = Metabolite(id = 'artem_alcohol', name = 'Artemisinic alcohol', compartment = 'c')\n",
    "Artemisinic_aldehyde = Metabolite(id = 'artem_aldehyde', name = 'Artemisinic aldehyde', compartment = 'c')\n",
    "Artemisinic_acid_c = Metabolite(id = 'ARTA_c', name = 'Artemisinic acid_c', compartment = 'c')\n",
    "Artemisinic_acid_e = Metabolite(id = 'ARTA_e', name = 'Artemisinic acid_e', compartment = 'e')\n",
    "\n",
    "# Create all reactions\n",
    "ADS = Reaction('ADS_reaction')\n",
    "ADS.add_metabolites({\n",
    "    modelY.metabolites.frdp_c: -1,\n",
    "    Amorphadiene: 1\n",
    "})\n",
    "\n",
    "CYP1_CYB5 = Reaction('CYP1AV1CY/PCPR1/CYB5_reaction')\n",
    "CYP1_CYB5.add_metabolites({\n",
    "    Amorphadiene: -1,\n",
    "    Artemisinic_alcohol: 1\n",
    "})\n",
    "\n",
    "ADH1 = Reaction('ADH1_reaction')\n",
    "ADH1.add_metabolites({\n",
    "    Artemisinic_alcohol: -1,\n",
    "    Artemisinic_aldehyde: 1\n",
    "})\n",
    "\n",
    "ALDH1 = Reaction('ALDH1_reaction')\n",
    "ALDH1.add_metabolites({\n",
    "    Artemisinic_aldehyde: -1,\n",
    "    Artemisinic_acid_c: 1\n",
    "})\n",
    "\n",
    "Artemisinic_acid_ex = Reaction('ARTA_ex')\n",
    "Artemisinic_acid_ex.add_metabolites({\n",
    "    Artemisinic_acid_c: -1,\n",
    "    Artemisinic_acid_e: 1\n",
    "})\n",
    "\n",
    "new_reactions = [ADS, CYP1_CYB5, ADH1, ALDH1, Artemisinic_acid_ex]\n",
    "\n",
    "modelY.add_reactions(new_reactions)\n",
    "modelY.add_boundary(modelY.metabolites.get_by_id(\"ARTA_e\"), type=\"exchange\")\n",
    "\n",
    "#build A. niger model for comparison\n",
    "%run create_model.py\n",
    "\n",
    "\n",
    "modelY\n",
    "model"
   ]
  },
  {
   "cell_type": "code",
   "execution_count": 2,
   "id": "051fac9b",
   "metadata": {},
   "outputs": [
    {
     "name": "stdout",
     "output_type": "stream",
     "text": [
      "S. cerviseae Value Biomass production (Flux):  0.28786570370401754\n",
      "[0.9909909909910005, 0.8861102002901321, 0.7812294095892949, 0.6763486188884478, 0.5714678281876026, 0.4665870374867495, 0.36170624678590446, 0.2558202036341845, 0.1434986330946196, -5.307815173312503e-15]\n",
      "A. niger Value Biomass production (Flux):  0.9398547241492903\n"
     ]
    }
   ],
   "source": [
    "import numpy as np\n",
    "import matplotlib.pyplot as plt\n",
    "\n",
    "# Yeast PPP Product vs. BM\n",
    "\n",
    "#find maximum BM flux without any product flux\n",
    "modelY.optimize().objective_value\n",
    "BM_maxY = modelY.optimize().objective_value\n",
    "print('S. cerviseae Value Biomass production (Flux): ', BM_maxY)\n",
    "\n",
    "#divide BM_max into 10 parts and iterate over it, setting the lower boundary\n",
    "#of BM flux to cumulative sum of parts.\n",
    "#array_biomass = np.arange(0, BM_max, BM_max/10)\n",
    "array_biomassY = np.linspace(0, BM_maxY, num=10)\n",
    "array_secretionY = []\n",
    "BM_reactionY = Reaction('BIOMASS_SC5_notrace')\n",
    "\n",
    "\n",
    "for i in array_biomassY:\n",
    "    with modelY:\n",
    "        modelY.reactions.BIOMASS_SC5_notrace.bounds = i, 1000\n",
    "        modelY.objective = modelY.reactions.ARTA_ex\n",
    "        solutionY = modelY.optimize()    \n",
    "        array_secretionY.append(solutionY.fluxes.ARTA_ex)\n",
    "        #print(model.optimize().objective_value)\n",
    "        #print(modelY.reactions.BIOMASS_SC5_notrace.bounds)\n",
    "\n",
    "print(array_secretionY)\n",
    "\n",
    "# A. niger PPP product vs. BM\n",
    "\n",
    "#find maximum BM flux without any product flux\n",
    "model.optimize().objective_value\n",
    "BM_max = model.optimize().objective_value\n",
    "print('A. niger Value Biomass production (Flux): ', BM_max)\n",
    "\n",
    "#divide BM_max into 10 parts and iterate over it, setting the lower boundary\n",
    "#of BM flux to cumulative sum of parts.\n",
    "#array_biomass = np.arange(0, BM_max, BM_max/10)\n",
    "array_biomass = np.linspace(0, BM_max, num=10)\n",
    "array_secretion = []\n",
    "BM_reaction = Reaction('DRAIN_Biomass')\n",
    "\n",
    "#array_secretion[0] = 9\n",
    "#print(array_biomass)\n",
    "#print(array_secretion)\n",
    "\n",
    "for i in array_biomass:\n",
    "    with model:\n",
    "        model.reactions.DRAIN_Biomass.bounds = i, 1000\n",
    "        model.objective = model.reactions.ARTA_ex\n",
    "        solution = model.optimize()    \n",
    "        array_secretion.append(solution.fluxes.ARTA_ex)\n",
    "        #print(model.optimize().objective_value)\n",
    "        #print(model.reactions.DRAIN_Biomass.bounds)\n",
    "\n",
    "#print(array_secretion)\n"
   ]
  },
  {
   "cell_type": "code",
   "execution_count": 3,
   "id": "01219ff7-5543-4d3e-ac68-235e0cd8aff4",
   "metadata": {},
   "outputs": [
    {
     "data": {
      "image/png": "[encoded data removed]",
      "text/plain": [
       "<Figure size 640x480 with 1 Axes>"
      ]
     },
     "metadata": {},
     "output_type": "display_data"
    }
   ],
   "source": [
    "x1 = array_biomass\n",
    "x2 = array_biomassY\n",
    "y1 = array_secretion\n",
    "y2 = array_secretionY\n",
    "\n",
    "fig = plt.plot(x1, y1, color='b', label='A. niger')\n",
    "fig = plt.plot(x2, y2, color='r', label='S. cerviseae')\n",
    "\n",
    "fig = plt.legend(loc=\"upper right\")\n",
    "fig = plt.xlabel(\"BM Production Rate\")\n",
    "fig = plt.ylabel(\"Artem. Acid Production Rate\")\n",
    "fig = plt.title(\"Productivity Comparison \")\n",
    "\n",
    "plt.show()"
   ]
  },
  {
   "cell_type": "code",
   "execution_count": 4,
   "id": "ce0135f7-48da-4b81-902e-0d619faa723d",
   "metadata": {},
   "outputs": [
    {
     "name": "stdout",
     "output_type": "stream",
     "text": [
      "A. niger artem. acid flux with 50% BM production:  1.4040671971705783\n",
      "A. niger 50% BM production:  0.46992736207464514\n",
      "S. cervisiae artem. acid flux with 50% BM production:  0.5190274328371834\n",
      "S. cervisiae 50% BM production:  0.14393285185200877\n"
     ]
    }
   ],
   "source": [
    "#see max artem. acid production for 50% BM flux\n",
    "#A. niger:\n",
    "with model:\n",
    "    model.reactions.DRAIN_Biomass.bounds = BM_max/2, 1000\n",
    "    model.objective = model.reactions.ARTA_ex\n",
    "    solution = model.optimize()    \n",
    "    print(\"A. niger artem. acid flux with 50% BM production: \",solution.fluxes.ARTA_ex)\n",
    "    print(\"A. niger 50% BM production: \",BM_max/2)\n",
    "    \n",
    "#S. cervisiae:\n",
    "with modelY:\n",
    "    modelY.reactions.BIOMASS_SC5_notrace.bounds = BM_maxY/2, 1000\n",
    "    modelY.objective = modelY.reactions.ARTA_ex\n",
    "    solutionY = modelY.optimize()    \n",
    "    print(\"S. cervisiae artem. acid flux with 50% BM production: \",solutionY.fluxes.ARTA_ex)\n",
    "    print(\"S. cervisiae 50% BM production: \",BM_maxY/2)"
   ]
  }
 ],
 "metadata": {
  "kernelspec": {
   "display_name": "Python 3 (ipykernel)",
   "language": "python",
   "name": "python3"
  },
  "language_info": {
   "codemirror_mode": {
    "name": "ipython",
    "version": 3
   },
   "file_extension": ".py",
   "mimetype": "text/x-python",
   "name": "python",
   "nbconvert_exporter": "python",
   "pygments_lexer": "ipython3",
   "version": "3.9.13"
  }
 },
 "nbformat": 4,
 "nbformat_minor": 5
}
