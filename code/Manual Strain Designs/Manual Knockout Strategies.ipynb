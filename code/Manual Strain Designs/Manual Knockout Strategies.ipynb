{
 "cells": [
  {
   "cell_type": "markdown",
   "id": "3b7ab0f3-8aa9-458b-a3eb-0797311b5fc7",
   "metadata": {},
   "source": [
    "**OPTIMIZATION OF STRAIN USING MANUAL DERIVED DESIGNS**\n",
    "\n",
    "In order to develope strain strategies we have looked at the biosynthesis pathway map of Artemisin and try to find the way via knockouts to increase production. The pathway map was manually created through builderEscher and allows a simple visualization of metabolic relationships."
   ]
  },
  {
   "cell_type": "code",
   "execution_count": 48,
   "id": "dde2e91d-c0bd-476a-ba0a-f50e7ab608c7",
   "metadata": {
    "scrolled": true
   },
   "outputs": [
    {
     "data": {
      "application/vnd.jupyter.widget-view+json": {
       "model_id": "1edc08f8d877473ea1f83bd464d99abd",
       "version_major": 2,
       "version_minor": 0
      },
      "text/plain": [
       "Builder(never_ask_before_quit=True)"
      ]
     },
     "metadata": {},
     "output_type": "display_data"
    }
   ],
   "source": [
    "\n",
    "import escher\n",
    "from escher import Builder\n",
    "import cobra\n",
    "from time import sleep\n",
    "\n",
    "escher.rc['never_ask_before_quit'] = True\n",
    "\n",
    "from IPython.display import display\n",
    "b = escher.Builder(map_json = '../Visualization/MAP_ATCC1015.json')\n",
    "display(b)"
   ]
  },
  {
   "cell_type": "markdown",
   "id": "9b98b73e",
   "metadata": {},
   "source": [
    "Looking at the escher map, we can find several targets for upregulating the production of Artemisinic acid, reactions that share the same enzyme. Therefore, the targets for analysis are: r869, r2005, r2346, r3000 to r3010, r2607. The objective will be to observe the effect on Biomass and Artemisinic acid fluxes after knocking out each one of the genes in charge of the reactions and combinations of those. \n",
    "\n",
    "There are a total of 12 target genes and we can knockout between 1 and 12 genes for each model, let's look into the possible combinations:\n",
    "\n",
    "For 1 deletion: 12 possible combinations  \n",
    "For 2 deletions: 66 possible combinations  \n",
    "(...)  \n",
    "Total number of combinations of 4095. \n",
    "\n",
    "Having this in mind, it is necessary to make a rational approach to the problem. Firtsly we checked if knocking out each of these genes made the biomass flux plumet to 0, meaning the cell would not survive. "
   ]
  },
  {
   "cell_type": "code",
   "execution_count": 43,
   "id": "48f0eccd",
   "metadata": {},
   "outputs": [
    {
     "name": "stderr",
     "output_type": "stream",
     "text": [
      "'' is not a valid SBML 'SId'.\n"
     ]
    },
    {
     "name": "stdout",
     "output_type": "stream",
     "text": [
      "Mutant growth rate r869 KO:  0.0\n",
      "Mutant growth rate r2005 KO:  0.939854724149256\n",
      "Mutant growth rate r2346 KO:  0.939854724149256\n",
      "Mutant growth rate r3000 KO:  0.939854724149256\n",
      "Mutant growth rate r3001 KO:  0.939854724149256\n",
      "Mutant growth rate r3002 KO:  0.939854724149256\n",
      "Mutant growth rate r2607 KO:  0.939854724149256\n"
     ]
    }
   ],
   "source": [
    "from cobra.io import read_sbml_model\n",
    "model = read_sbml_model('../../model/Aspergillus_ATCC1015.xml')\n",
    "\n",
    "with model:\n",
    "    model.reactions.r869.bounds = 0, 0\n",
    "    solution = model.optimize()\n",
    "    print('Mutant growth rate r869 KO: ', model.optimize().objective_value)\n",
    "    \n",
    "with model:\n",
    "    model.reactions.r2005.bounds = 0, 0\n",
    "    solution = model.optimize()\n",
    "    print('Mutant growth rate r2005 KO: ', model.optimize().objective_value,)\n",
    "    \n",
    "with model:\n",
    "    model.reactions.r2346.bounds = 0, 0\n",
    "    solution = model.optimize()\n",
    "    print('Mutant growth rate r2346 KO: ', model.optimize().objective_value)\n",
    "    \n",
    "with model:\n",
    "    model.reactions.r3000.bounds = 0, 0\n",
    "    solution = model.optimize()\n",
    "    print('Mutant growth rate r3000 KO: ', model.optimize().objective_value)\n",
    "\n",
    "with model:\n",
    "    model.reactions.r3001.bounds = 0, 0\n",
    "    solution = model.optimize()\n",
    "    print('Mutant growth rate r3001 KO: ', model.optimize().objective_value)\n",
    "    \n",
    "with model:\n",
    "    model.reactions.r3002.bounds = 0, 0\n",
    "    solution = model.optimize()\n",
    "    print('Mutant growth rate r3002 KO: ', model.optimize().objective_value)\n",
    "    \n",
    "with model:\n",
    "    model.reactions.r2607.bounds = 0, 0\n",
    "    solution = model.optimize()\n",
    "    print('Mutant growth rate r2607 KO: ', model.optimize().objective_value)"
   ]
  },
  {
   "cell_type": "code",
   "execution_count": 41,
   "id": "e93e6c2d",
   "metadata": {},
   "outputs": [
    {
     "name": "stderr",
     "output_type": "stream",
     "text": [
      "'' is not a valid SBML 'SId'.\n"
     ]
    },
    {
     "ename": "KeyError",
     "evalue": "'EX_artem_acid_e'",
     "output_type": "error",
     "traceback": [
      "\u001b[1;31m---------------------------------------------------------------------------\u001b[0m",
      "\u001b[1;31mKeyError\u001b[0m                                  Traceback (most recent call last)",
      "File \u001b[1;32m~\\anaconda3\\lib\\site-packages\\pandas\\core\\indexes\\base.py:3621\u001b[0m, in \u001b[0;36mIndex.get_loc\u001b[1;34m(self, key, method, tolerance)\u001b[0m\n\u001b[0;32m   3620\u001b[0m \u001b[38;5;28;01mtry\u001b[39;00m:\n\u001b[1;32m-> 3621\u001b[0m     \u001b[38;5;28;01mreturn\u001b[39;00m \u001b[38;5;28;43mself\u001b[39;49m\u001b[38;5;241;43m.\u001b[39;49m\u001b[43m_engine\u001b[49m\u001b[38;5;241;43m.\u001b[39;49m\u001b[43mget_loc\u001b[49m\u001b[43m(\u001b[49m\u001b[43mcasted_key\u001b[49m\u001b[43m)\u001b[49m\n\u001b[0;32m   3622\u001b[0m \u001b[38;5;28;01mexcept\u001b[39;00m \u001b[38;5;167;01mKeyError\u001b[39;00m \u001b[38;5;28;01mas\u001b[39;00m err:\n",
      "File \u001b[1;32m~\\anaconda3\\lib\\site-packages\\pandas\\_libs\\index.pyx:136\u001b[0m, in \u001b[0;36mpandas._libs.index.IndexEngine.get_loc\u001b[1;34m()\u001b[0m\n",
      "File \u001b[1;32m~\\anaconda3\\lib\\site-packages\\pandas\\_libs\\index.pyx:163\u001b[0m, in \u001b[0;36mpandas._libs.index.IndexEngine.get_loc\u001b[1;34m()\u001b[0m\n",
      "File \u001b[1;32mpandas\\_libs\\hashtable_class_helper.pxi:5198\u001b[0m, in \u001b[0;36mpandas._libs.hashtable.PyObjectHashTable.get_item\u001b[1;34m()\u001b[0m\n",
      "File \u001b[1;32mpandas\\_libs\\hashtable_class_helper.pxi:5206\u001b[0m, in \u001b[0;36mpandas._libs.hashtable.PyObjectHashTable.get_item\u001b[1;34m()\u001b[0m\n",
      "\u001b[1;31mKeyError\u001b[0m: 'EX_artem_acid_e'",
      "\nThe above exception was the direct cause of the following exception:\n",
      "\u001b[1;31mKeyError\u001b[0m                                  Traceback (most recent call last)",
      "Input \u001b[1;32mIn [41]\u001b[0m, in \u001b[0;36m<cell line: 5>\u001b[1;34m()\u001b[0m\n\u001b[0;32m      2\u001b[0m model \u001b[38;5;241m=\u001b[39m read_sbml_model(\u001b[38;5;124m'\u001b[39m\u001b[38;5;124m../../model/Aspergillus_ATCC1015.xml\u001b[39m\u001b[38;5;124m'\u001b[39m)\n\u001b[0;32m      4\u001b[0m solution \u001b[38;5;241m=\u001b[39m model\u001b[38;5;241m.\u001b[39moptimize()\n\u001b[1;32m----> 5\u001b[0m \u001b[43msolution\u001b[49m\u001b[38;5;241;43m.\u001b[39;49m\u001b[43mfluxes\u001b[49m\u001b[43m[\u001b[49m\u001b[38;5;124;43m'\u001b[39;49m\u001b[38;5;124;43mEX_artem_acid_e\u001b[39;49m\u001b[38;5;124;43m'\u001b[39;49m\u001b[43m]\u001b[49m\n",
      "File \u001b[1;32m~\\anaconda3\\lib\\site-packages\\pandas\\core\\series.py:958\u001b[0m, in \u001b[0;36mSeries.__getitem__\u001b[1;34m(self, key)\u001b[0m\n\u001b[0;32m    955\u001b[0m     \u001b[38;5;28;01mreturn\u001b[39;00m \u001b[38;5;28mself\u001b[39m\u001b[38;5;241m.\u001b[39m_values[key]\n\u001b[0;32m    957\u001b[0m \u001b[38;5;28;01melif\u001b[39;00m key_is_scalar:\n\u001b[1;32m--> 958\u001b[0m     \u001b[38;5;28;01mreturn\u001b[39;00m \u001b[38;5;28;43mself\u001b[39;49m\u001b[38;5;241;43m.\u001b[39;49m\u001b[43m_get_value\u001b[49m\u001b[43m(\u001b[49m\u001b[43mkey\u001b[49m\u001b[43m)\u001b[49m\n\u001b[0;32m    960\u001b[0m \u001b[38;5;28;01mif\u001b[39;00m is_hashable(key):\n\u001b[0;32m    961\u001b[0m     \u001b[38;5;66;03m# Otherwise index.get_value will raise InvalidIndexError\u001b[39;00m\n\u001b[0;32m    962\u001b[0m     \u001b[38;5;28;01mtry\u001b[39;00m:\n\u001b[0;32m    963\u001b[0m         \u001b[38;5;66;03m# For labels that don't resolve as scalars like tuples and frozensets\u001b[39;00m\n",
      "File \u001b[1;32m~\\anaconda3\\lib\\site-packages\\pandas\\core\\series.py:1069\u001b[0m, in \u001b[0;36mSeries._get_value\u001b[1;34m(self, label, takeable)\u001b[0m\n\u001b[0;32m   1066\u001b[0m     \u001b[38;5;28;01mreturn\u001b[39;00m \u001b[38;5;28mself\u001b[39m\u001b[38;5;241m.\u001b[39m_values[label]\n\u001b[0;32m   1068\u001b[0m \u001b[38;5;66;03m# Similar to Index.get_value, but we do not fall back to positional\u001b[39;00m\n\u001b[1;32m-> 1069\u001b[0m loc \u001b[38;5;241m=\u001b[39m \u001b[38;5;28;43mself\u001b[39;49m\u001b[38;5;241;43m.\u001b[39;49m\u001b[43mindex\u001b[49m\u001b[38;5;241;43m.\u001b[39;49m\u001b[43mget_loc\u001b[49m\u001b[43m(\u001b[49m\u001b[43mlabel\u001b[49m\u001b[43m)\u001b[49m\n\u001b[0;32m   1070\u001b[0m \u001b[38;5;28;01mreturn\u001b[39;00m \u001b[38;5;28mself\u001b[39m\u001b[38;5;241m.\u001b[39mindex\u001b[38;5;241m.\u001b[39m_get_values_for_loc(\u001b[38;5;28mself\u001b[39m, loc, label)\n",
      "File \u001b[1;32m~\\anaconda3\\lib\\site-packages\\pandas\\core\\indexes\\base.py:3623\u001b[0m, in \u001b[0;36mIndex.get_loc\u001b[1;34m(self, key, method, tolerance)\u001b[0m\n\u001b[0;32m   3621\u001b[0m     \u001b[38;5;28;01mreturn\u001b[39;00m \u001b[38;5;28mself\u001b[39m\u001b[38;5;241m.\u001b[39m_engine\u001b[38;5;241m.\u001b[39mget_loc(casted_key)\n\u001b[0;32m   3622\u001b[0m \u001b[38;5;28;01mexcept\u001b[39;00m \u001b[38;5;167;01mKeyError\u001b[39;00m \u001b[38;5;28;01mas\u001b[39;00m err:\n\u001b[1;32m-> 3623\u001b[0m     \u001b[38;5;28;01mraise\u001b[39;00m \u001b[38;5;167;01mKeyError\u001b[39;00m(key) \u001b[38;5;28;01mfrom\u001b[39;00m \u001b[38;5;21;01merr\u001b[39;00m\n\u001b[0;32m   3624\u001b[0m \u001b[38;5;28;01mexcept\u001b[39;00m \u001b[38;5;167;01mTypeError\u001b[39;00m:\n\u001b[0;32m   3625\u001b[0m     \u001b[38;5;66;03m# If we have a listlike key, _check_indexing_error will raise\u001b[39;00m\n\u001b[0;32m   3626\u001b[0m     \u001b[38;5;66;03m#  InvalidIndexError. Otherwise we fall through and re-raise\u001b[39;00m\n\u001b[0;32m   3627\u001b[0m     \u001b[38;5;66;03m#  the TypeError.\u001b[39;00m\n\u001b[0;32m   3628\u001b[0m     \u001b[38;5;28mself\u001b[39m\u001b[38;5;241m.\u001b[39m_check_indexing_error(key)\n",
      "\u001b[1;31mKeyError\u001b[0m: 'EX_artem_acid_e'"
     ]
    }
   ],
   "source": [
    "from cobra.io import read_sbml_model\n",
    "model = read_sbml_model('../../model/Aspergillus_ATCC1015.xml')\n",
    "\n",
    "solution = model.optimize()\n",
    "solution.fluxes['EX_artem_acid_e']"
   ]
  },
  {
   "cell_type": "code",
   "execution_count": null,
   "id": "b4d787e5",
   "metadata": {},
   "outputs": [],
   "source": []
  }
 ],
 "metadata": {
  "kernelspec": {
   "display_name": "Python 3 (ipykernel)",
   "language": "python",
   "name": "python3"
  },
  "language_info": {
   "codemirror_mode": {
    "name": "ipython",
    "version": 3
   },
   "file_extension": ".py",
   "mimetype": "text/x-python",
   "name": "python",
   "nbconvert_exporter": "python",
   "pygments_lexer": "ipython3",
   "version": "3.9.12"
  }
 },
 "nbformat": 4,
 "nbformat_minor": 5
}
