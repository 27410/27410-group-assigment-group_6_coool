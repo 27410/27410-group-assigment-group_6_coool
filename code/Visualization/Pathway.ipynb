{
 "cells": [
  {
   "cell_type": "code",
   "execution_count": 1,
   "id": "0b0526c8-3516-4bff-b213-b339d2063ec8",
   "metadata": {},
   "outputs": [
    {
     "data": {
      "application/vnd.jupyter.widget-view+json": {
       "model_id": "c9871bb043fb417c85f5c0b7413c78b4",
       "version_major": 2,
       "version_minor": 0
      },
      "text/plain": [
       "Builder(never_ask_before_quit=True)"
      ]
     },
     "metadata": {},
     "output_type": "display_data"
    }
   ],
   "source": [
    "#This code loads the pathway map thru builder - For me it does not work in jupyter lab but it does in notebook\n",
    "import escher\n",
    "from escher import Builder\n",
    "import cobra\n",
    "from time import sleep\n",
    "\n",
    "escher.rc['never_ask_before_quit'] = True\n",
    "\n",
    "from IPython.display import display\n",
    "b = escher.Builder(map_json = 'MAP_ATCC1015.json')\n",
    "display(b)\n",
    "\n",
    "#This next piece of code allows to upload the optimized model and see how it affects the reactions\n",
    "#with model:  \n",
    "    #model.objective = model.reactions.Ex_biomass\n",
    "    #solution = model.optimize()\n",
    "    #b = escher.Builder(map_json = 'misc/iMM904.Central_carbon_metabolism.json', reaction_data = solution.fluxes.to_dict(),highlight_missing=True, model=model)\n",
    "    #display(b)"
   ]
  },
  {
   "cell_type": "code",
   "execution_count": null,
   "id": "40ff6477",
   "metadata": {},
   "outputs": [],
   "source": []
  }
 ],
 "metadata": {
  "kernelspec": {
   "display_name": "Python 3 (ipykernel)",
   "language": "python",
   "name": "python3"
  },
  "language_info": {
   "codemirror_mode": {
    "name": "ipython",
    "version": 3
   },
   "file_extension": ".py",
   "mimetype": "text/x-python",
   "name": "python",
   "nbconvert_exporter": "python",
   "pygments_lexer": "ipython3",
   "version": "3.9.12"
  }
 },
 "nbformat": 4,
 "nbformat_minor": 5
}
