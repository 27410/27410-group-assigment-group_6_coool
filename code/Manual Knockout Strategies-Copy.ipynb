{
 "cells": [
  {
   "cell_type": "markdown",
   "id": "3b7ab0f3-8aa9-458b-a3eb-0797311b5fc7",
   "metadata": {},
   "source": [
    "**OPTIMIZATION OF STRAIN USING MANUAL DERIVED DESIGNS**\n",
    "\n",
    "In order to develope strain strategies we have looked at the biosynthesis pathway map of Artemisin and try to find the way via knockouts to increase production. The pathway map was manually created through builderEscher and allows a simple visualization of metabolic relationships."
   ]
  },
  {
   "cell_type": "code",
   "execution_count": 22,
   "id": "dde2e91d-c0bd-476a-ba0a-f50e7ab608c7",
   "metadata": {
    "scrolled": true
   },
   "outputs": [
    {
     "name": "stderr",
     "output_type": "stream",
     "text": [
      "'' is not a valid SBML 'SId'.\n"
     ]
    },
    {
     "data": {
      "application/vnd.jupyter.widget-view+json": {
       "model_id": "58d17365fe234a9d9a41c5a571c2f6ec",
       "version_major": 2,
       "version_minor": 0
      },
      "text/plain": [
       "Builder(highlight_missing=False, never_ask_before_quit=True, reaction_data={'NE1': 0.0, 'NE2': 0.0, 'r1': 10.0…"
      ]
     },
     "metadata": {},
     "output_type": "display_data"
    },
    {
     "name": "stdout",
     "output_type": "stream",
     "text": [
      "Max theorhetical ARTA production:    1.4636069424019242 mmol/( g[dry_weight]*h )\n"
     ]
    }
   ],
   "source": [
    "import escher\n",
    "from escher import Builder\n",
    "import cobra\n",
    "from time import sleep\n",
    "\n",
    "escher.rc['never_ask_before_quit'] = True\n",
    "\n",
    "from IPython.display import display\n",
    "%run create_model.py\n",
    "\n",
    "with model:\n",
    "    constrained_growth = model.problem.Constraint(\n",
    "        model.reactions.get_by_id('DRAIN_Biomass').flux_expression,\n",
    "        lb=0.45,\n",
    "        ub=1)\n",
    "    model.add_cons_vars(constrained_growth)\n",
    "    \n",
    "    model.objective = model.reactions.ARTA_ex\n",
    "    solution = model.optimize()\n",
    "   \n",
    "    b = escher.Builder(map_json = 'Visualization/MAP_ATCC1015.json', reaction_data = solution.fluxes.to_dict(),highlight_missing=False)\n",
    "    display(b)\n",
    "\n",
    "    print('Max theorhetical ARTA production:   ',  ARTA_production, 'mmol/( g[dry_weight]*h )')\n",
    "    \n",
    "    "
   ]
  },
  {
   "cell_type": "markdown",
   "id": "9b98b73e",
   "metadata": {},
   "source": [
    "Looking at the escher map, we can find several targets for upregulating the production of Artemisinic acid, reactions that share the same enzyme. Therefore, the targets for analysis are: r869, r2005, r2346, r3000 to r3010, r2607. The objective will be to observe the effect on Biomass and Artemisinic acid fluxes after knocking out each one of the genes in charge of the reactions and combinations of those. \n",
    "\n",
    "There are a total of 12 target genes and we can knockout between 1 and 12 genes for each model, let's look into the possible combinations:\n",
    "\n",
    "For 1 deletion: 12 possible combinations  \n",
    "For 2 deletions: 66 possible combinations  \n",
    "(...)  \n",
    "Total number of combinations of 4095. \n",
    "\n",
    "Having this in mind, it is necessary to make a rational approach to the problem. Firtsly we checked if knocking out each of these genes made the biomass flux plumet to 0, meaning the cell would not survive. "
   ]
  },
  {
   "cell_type": "code",
   "execution_count": 5,
   "id": "48f0eccd",
   "metadata": {},
   "outputs": [
    {
     "name": "stderr",
     "output_type": "stream",
     "text": [
      "'' is not a valid SBML 'SId'.\n"
     ]
    },
    {
     "name": "stdout",
     "output_type": "stream",
     "text": [
      "Mutant growth rate r869 KO:  0.0\n",
      "Max theorhetical ARTA production:    2.8081343943412636 mmol/( g[dry_weight]*h )\n",
      "Mutant growth rate r2005 KO:  0.9398547241491934\n",
      "Max theorhetical ARTA production:    2.8081343943412653 mmol/( g[dry_weight]*h )\n",
      "Mutant growth rate r2346 KO:  0.9398547241492075\n",
      "0.0\n",
      "Mutant growth rate r3000 KO:  0.9398547241492075\n",
      "0.0\n",
      "Mutant growth rate r3001 KO:  0.9398547241492075\n",
      "0.0\n",
      "Mutant growth rate r3002 KO:  0.9398547241492075\n",
      "0.0\n",
      "Mutant growth rate r2607 KO:  0.9398547241492075\n",
      "0.0\n"
     ]
    }
   ],
   "source": [
    "%run create_model.py\n",
    "\n",
    "with model:\n",
    "    model.reactions.r869.bounds = 0, 0\n",
    "    print('Mutant growth rate r869 KO: ', model.optimize().objective_value)\n",
    "    \n",
    "with model:\n",
    "    model.reactions.r2005.bounds = 0, 0\n",
    "    print('Mutant growth rate r2005 KO: ', model.optimize().objective_value,)\n",
    "    \n",
    "with model:\n",
    "    model.reactions.r2346.bounds = 0, 0\n",
    "    print('Mutant growth rate r2346 KO: ', model.optimize().objective_value)\n",
    "    \n",
    "with model:\n",
    "    model.reactions.r3000.bounds = 0, 0\n",
    "    print('Mutant growth rate r3000 KO: ', model.optimize().objective_value)\n",
    "    \n",
    "with model:\n",
    "    model.reactions.r3001.bounds = 0, 0\n",
    "    print('Mutant growth rate r3001 KO: ', model.optimize().objective_value)\n",
    "    \n",
    "with model:\n",
    "    model.reactions.r3002.bounds = 0, 0\n",
    "    print('Mutant growth rate r3002 KO: ', model.optimize().objective_value)\n",
    "    \n",
    "with model:\n",
    "    model.reactions.r2607.bounds = 0, 0\n",
    "    print('Mutant growth rate r2607 KO: ', model.optimize().objective_value)"
   ]
  }
 ],
 "metadata": {
  "kernelspec": {
   "display_name": "Python 3 (ipykernel)",
   "language": "python",
   "name": "python3"
  },
  "language_info": {
   "codemirror_mode": {
    "name": "ipython",
    "version": 3
   },
   "file_extension": ".py",
   "mimetype": "text/x-python",
   "name": "python",
   "nbconvert_exporter": "python",
   "pygments_lexer": "ipython3",
   "version": "3.9.12"
  }
 },
 "nbformat": 4,
 "nbformat_minor": 5
}
